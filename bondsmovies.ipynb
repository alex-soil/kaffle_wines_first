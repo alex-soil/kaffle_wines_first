{
 "cells": [
  {
   "cell_type": "code",
   "execution_count": 1,
   "id": "c358c211",
   "metadata": {
    "execution": {
     "iopub.execute_input": "2023-04-13T05:32:55.861279Z",
     "iopub.status.busy": "2023-04-13T05:32:55.860325Z",
     "iopub.status.idle": "2023-04-13T05:32:56.078406Z",
     "shell.execute_reply": "2023-04-13T05:32:56.077037Z"
    },
    "papermill": {
     "duration": 0.230996,
     "end_time": "2023-04-13T05:32:56.081559",
     "exception": false,
     "start_time": "2023-04-13T05:32:55.850563",
     "status": "completed"
    },
    "tags": []
   },
   "outputs": [],
   "source": [
    "import pandas as pd\n",
    "import numpy as np\n",
    "import polars as ps"
   ]
  },
  {
   "cell_type": "code",
   "execution_count": 2,
   "id": "308337a4",
   "metadata": {
    "execution": {
     "iopub.execute_input": "2023-04-13T05:32:56.097642Z",
     "iopub.status.busy": "2023-04-13T05:32:56.096858Z",
     "iopub.status.idle": "2023-04-13T05:32:56.148636Z",
     "shell.execute_reply": "2023-04-13T05:32:56.147346Z"
    },
    "papermill": {
     "duration": 0.063763,
     "end_time": "2023-04-13T05:32:56.152319",
     "exception": false,
     "start_time": "2023-04-13T05:32:56.088556",
     "status": "completed"
    },
    "tags": []
   },
   "outputs": [
    {
     "data": {
      "text/html": [
       "<div>\n",
       "<style scoped>\n",
       "    .dataframe tbody tr th:only-of-type {\n",
       "        vertical-align: middle;\n",
       "    }\n",
       "\n",
       "    .dataframe tbody tr th {\n",
       "        vertical-align: top;\n",
       "    }\n",
       "\n",
       "    .dataframe thead th {\n",
       "        text-align: right;\n",
       "    }\n",
       "</style>\n",
       "<table border=\"1\" class=\"dataframe\">\n",
       "  <thead>\n",
       "    <tr style=\"text-align: right;\">\n",
       "      <th></th>\n",
       "      <th>Year</th>\n",
       "      <th>Actor</th>\n",
       "      <th>Director</th>\n",
       "      <th>Box Office</th>\n",
       "      <th>Budget</th>\n",
       "      <th>Bond Actor Salary</th>\n",
       "    </tr>\n",
       "    <tr>\n",
       "      <th>Film</th>\n",
       "      <th></th>\n",
       "      <th></th>\n",
       "      <th></th>\n",
       "      <th></th>\n",
       "      <th></th>\n",
       "      <th></th>\n",
       "    </tr>\n",
       "  </thead>\n",
       "  <tbody>\n",
       "    <tr>\n",
       "      <th>Dr. No</th>\n",
       "      <td>1962</td>\n",
       "      <td>Sean Connery</td>\n",
       "      <td>Terence Young</td>\n",
       "      <td>448.8</td>\n",
       "      <td>7.0</td>\n",
       "      <td>0.6</td>\n",
       "    </tr>\n",
       "  </tbody>\n",
       "</table>\n",
       "</div>"
      ],
      "text/plain": [
       "        Year         Actor       Director  Box Office  Budget  \\\n",
       "Film                                                            \n",
       "Dr. No  1962  Sean Connery  Terence Young       448.8     7.0   \n",
       "\n",
       "        Bond Actor Salary  \n",
       "Film                       \n",
       "Dr. No                0.6  "
      ]
     },
     "execution_count": 2,
     "metadata": {},
     "output_type": "execute_result"
    }
   ],
   "source": [
    "df = pd.read_csv('/kaggle/input/bondsmovieanalysis/jamesbond.csv', index_col=\"Film\")\n",
    "df.head(1)"
   ]
  },
  {
   "cell_type": "code",
   "execution_count": 3,
   "id": "e268a6b3",
   "metadata": {
    "execution": {
     "iopub.execute_input": "2023-04-13T05:32:56.167882Z",
     "iopub.status.busy": "2023-04-13T05:32:56.167478Z",
     "iopub.status.idle": "2023-04-13T05:32:56.175405Z",
     "shell.execute_reply": "2023-04-13T05:32:56.174468Z"
    },
    "papermill": {
     "duration": 0.018571,
     "end_time": "2023-04-13T05:32:56.177765",
     "exception": false,
     "start_time": "2023-04-13T05:32:56.159194",
     "status": "completed"
    },
    "tags": []
   },
   "outputs": [],
   "source": [
    "actorIS = df[\"Actor\"] == \"Sean Connery\"\n",
    "#one type of changing all the values "
   ]
  },
  {
   "cell_type": "code",
   "execution_count": 4,
   "id": "d7913c69",
   "metadata": {
    "execution": {
     "iopub.execute_input": "2023-04-13T05:32:56.193631Z",
     "iopub.status.busy": "2023-04-13T05:32:56.192936Z",
     "iopub.status.idle": "2023-04-13T05:32:56.205284Z",
     "shell.execute_reply": "2023-04-13T05:32:56.204337Z"
    },
    "papermill": {
     "duration": 0.023295,
     "end_time": "2023-04-13T05:32:56.207941",
     "exception": false,
     "start_time": "2023-04-13T05:32:56.184646",
     "status": "completed"
    },
    "tags": []
   },
   "outputs": [],
   "source": [
    "Sean_Connery = df.query(\"Actor == 'Sean Connery'\")\n",
    "#selecting with query"
   ]
  },
  {
   "cell_type": "code",
   "execution_count": 5,
   "id": "88f752ea",
   "metadata": {
    "execution": {
     "iopub.execute_input": "2023-04-13T05:32:56.223794Z",
     "iopub.status.busy": "2023-04-13T05:32:56.223270Z",
     "iopub.status.idle": "2023-04-13T05:32:56.229086Z",
     "shell.execute_reply": "2023-04-13T05:32:56.228066Z"
    },
    "papermill": {
     "duration": 0.016667,
     "end_time": "2023-04-13T05:32:56.231455",
     "exception": false,
     "start_time": "2023-04-13T05:32:56.214788",
     "status": "completed"
    },
    "tags": []
   },
   "outputs": [],
   "source": [
    "df.loc[actorIS, \"Actor\"] = \"Sir Sean Connery\"\n",
    "#change name to another name"
   ]
  },
  {
   "cell_type": "code",
   "execution_count": 6,
   "id": "25aaa7f1",
   "metadata": {
    "execution": {
     "iopub.execute_input": "2023-04-13T05:32:56.246962Z",
     "iopub.status.busy": "2023-04-13T05:32:56.246534Z",
     "iopub.status.idle": "2023-04-13T05:32:56.253785Z",
     "shell.execute_reply": "2023-04-13T05:32:56.252899Z"
    },
    "papermill": {
     "duration": 0.017606,
     "end_time": "2023-04-13T05:32:56.255940",
     "exception": false,
     "start_time": "2023-04-13T05:32:56.238334",
     "status": "completed"
    },
    "tags": []
   },
   "outputs": [],
   "source": [
    "df.rename(mapper =  {\"GoldenEye\" : \"Golden Eye\"}, inplace = True)\n",
    "#rename with mapper"
   ]
  },
  {
   "cell_type": "code",
   "execution_count": 7,
   "id": "e018b118",
   "metadata": {
    "execution": {
     "iopub.execute_input": "2023-04-13T05:32:56.271653Z",
     "iopub.status.busy": "2023-04-13T05:32:56.270938Z",
     "iopub.status.idle": "2023-04-13T05:32:56.275845Z",
     "shell.execute_reply": "2023-04-13T05:32:56.275041Z"
    },
    "papermill": {
     "duration": 0.015474,
     "end_time": "2023-04-13T05:32:56.278188",
     "exception": false,
     "start_time": "2023-04-13T05:32:56.262714",
     "status": "completed"
    },
    "tags": []
   },
   "outputs": [],
   "source": [
    "df.rename(columns={\"Year\" : \"Release Date\"}, inplace = True)\n",
    "#rename column"
   ]
  },
  {
   "cell_type": "code",
   "execution_count": 8,
   "id": "81bf69ef",
   "metadata": {
    "execution": {
     "iopub.execute_input": "2023-04-13T05:32:56.294185Z",
     "iopub.status.busy": "2023-04-13T05:32:56.293422Z",
     "iopub.status.idle": "2023-04-13T05:32:56.297571Z",
     "shell.execute_reply": "2023-04-13T05:32:56.296566Z"
    },
    "papermill": {
     "duration": 0.014856,
     "end_time": "2023-04-13T05:32:56.299967",
     "exception": false,
     "start_time": "2023-04-13T05:32:56.285111",
     "status": "completed"
    },
    "tags": []
   },
   "outputs": [],
   "source": [
    "#rename all columns \n",
    "#bond.columns = ['1', '2', '3', '4', '5',\"6\"]"
   ]
  },
  {
   "cell_type": "code",
   "execution_count": 9,
   "id": "89d99e03",
   "metadata": {
    "execution": {
     "iopub.execute_input": "2023-04-13T05:32:56.316555Z",
     "iopub.status.busy": "2023-04-13T05:32:56.315785Z",
     "iopub.status.idle": "2023-04-13T05:32:56.320356Z",
     "shell.execute_reply": "2023-04-13T05:32:56.319340Z"
    },
    "papermill": {
     "duration": 0.015634,
     "end_time": "2023-04-13T05:32:56.322755",
     "exception": false,
     "start_time": "2023-04-13T05:32:56.307121",
     "status": "completed"
    },
    "tags": []
   },
   "outputs": [],
   "source": [
    "# bond.drop([\"A View to a Kill\", \"Casino Royal\"], inplace=True)\n",
    "#delete rows"
   ]
  },
  {
   "cell_type": "code",
   "execution_count": 10,
   "id": "32fc23fc",
   "metadata": {
    "execution": {
     "iopub.execute_input": "2023-04-13T05:32:56.339551Z",
     "iopub.status.busy": "2023-04-13T05:32:56.338358Z",
     "iopub.status.idle": "2023-04-13T05:32:56.344060Z",
     "shell.execute_reply": "2023-04-13T05:32:56.343083Z"
    },
    "papermill": {
     "duration": 0.016642,
     "end_time": "2023-04-13T05:32:56.346521",
     "exception": false,
     "start_time": "2023-04-13T05:32:56.329879",
     "status": "completed"
    },
    "tags": []
   },
   "outputs": [],
   "source": [
    "#bond.drop([\"Box Office\", \"Actor\"], axis =\"columns\", inplace=True)"
   ]
  },
  {
   "cell_type": "code",
   "execution_count": 11,
   "id": "9c27801e",
   "metadata": {
    "execution": {
     "iopub.execute_input": "2023-04-13T05:32:56.363872Z",
     "iopub.status.busy": "2023-04-13T05:32:56.362653Z",
     "iopub.status.idle": "2023-04-13T05:32:56.368015Z",
     "shell.execute_reply": "2023-04-13T05:32:56.367086Z"
    },
    "papermill": {
     "duration": 0.016852,
     "end_time": "2023-04-13T05:32:56.370279",
     "exception": false,
     "start_time": "2023-04-13T05:32:56.353427",
     "status": "completed"
    },
    "tags": []
   },
   "outputs": [],
   "source": [
    "#bond.pop(\"Actor\")\n",
    "#actor = bond.pop(\"Actor\") STORES the deleted from DF column to another DF"
   ]
  },
  {
   "cell_type": "code",
   "execution_count": 12,
   "id": "67f61475",
   "metadata": {
    "execution": {
     "iopub.execute_input": "2023-04-13T05:32:56.386368Z",
     "iopub.status.busy": "2023-04-13T05:32:56.385450Z",
     "iopub.status.idle": "2023-04-13T05:32:56.390190Z",
     "shell.execute_reply": "2023-04-13T05:32:56.389312Z"
    },
    "papermill": {
     "duration": 0.015293,
     "end_time": "2023-04-13T05:32:56.392392",
     "exception": false,
     "start_time": "2023-04-13T05:32:56.377099",
     "status": "completed"
    },
    "tags": []
   },
   "outputs": [],
   "source": [
    "# del bond[Director]"
   ]
  },
  {
   "cell_type": "code",
   "execution_count": 13,
   "id": "a17a8923",
   "metadata": {
    "execution": {
     "iopub.execute_input": "2023-04-13T05:32:56.408450Z",
     "iopub.status.busy": "2023-04-13T05:32:56.407731Z",
     "iopub.status.idle": "2023-04-13T05:32:56.420442Z",
     "shell.execute_reply": "2023-04-13T05:32:56.419582Z"
    },
    "papermill": {
     "duration": 0.023509,
     "end_time": "2023-04-13T05:32:56.422717",
     "exception": false,
     "start_time": "2023-04-13T05:32:56.399208",
     "status": "completed"
    },
    "tags": []
   },
   "outputs": [
    {
     "data": {
      "text/html": [
       "<div>\n",
       "<style scoped>\n",
       "    .dataframe tbody tr th:only-of-type {\n",
       "        vertical-align: middle;\n",
       "    }\n",
       "\n",
       "    .dataframe tbody tr th {\n",
       "        vertical-align: top;\n",
       "    }\n",
       "\n",
       "    .dataframe thead th {\n",
       "        text-align: right;\n",
       "    }\n",
       "</style>\n",
       "<table border=\"1\" class=\"dataframe\">\n",
       "  <thead>\n",
       "    <tr style=\"text-align: right;\">\n",
       "      <th></th>\n",
       "      <th>Release Date</th>\n",
       "      <th>Actor</th>\n",
       "      <th>Director</th>\n",
       "      <th>Box Office</th>\n",
       "      <th>Budget</th>\n",
       "      <th>Bond Actor Salary</th>\n",
       "    </tr>\n",
       "    <tr>\n",
       "      <th>Film</th>\n",
       "      <th></th>\n",
       "      <th></th>\n",
       "      <th></th>\n",
       "      <th></th>\n",
       "      <th></th>\n",
       "      <th></th>\n",
       "    </tr>\n",
       "  </thead>\n",
       "  <tbody>\n",
       "    <tr>\n",
       "      <th>Dr. No</th>\n",
       "      <td>1962</td>\n",
       "      <td>Sir Sean Connery</td>\n",
       "      <td>Terence Young</td>\n",
       "      <td>448.8</td>\n",
       "      <td>7.0</td>\n",
       "      <td>0.6</td>\n",
       "    </tr>\n",
       "    <tr>\n",
       "      <th>From Russia with Love</th>\n",
       "      <td>1963</td>\n",
       "      <td>Sir Sean Connery</td>\n",
       "      <td>Terence Young</td>\n",
       "      <td>543.8</td>\n",
       "      <td>12.6</td>\n",
       "      <td>1.6</td>\n",
       "    </tr>\n",
       "    <tr>\n",
       "      <th>Goldfinger</th>\n",
       "      <td>1964</td>\n",
       "      <td>Sir Sean Connery</td>\n",
       "      <td>Guy Hamilton</td>\n",
       "      <td>820.4</td>\n",
       "      <td>18.6</td>\n",
       "      <td>3.2</td>\n",
       "    </tr>\n",
       "  </tbody>\n",
       "</table>\n",
       "</div>"
      ],
      "text/plain": [
       "                       Release Date             Actor       Director  \\\n",
       "Film                                                                   \n",
       "Dr. No                         1962  Sir Sean Connery  Terence Young   \n",
       "From Russia with Love          1963  Sir Sean Connery  Terence Young   \n",
       "Goldfinger                     1964  Sir Sean Connery   Guy Hamilton   \n",
       "\n",
       "                       Box Office  Budget  Bond Actor Salary  \n",
       "Film                                                          \n",
       "Dr. No                      448.8     7.0                0.6  \n",
       "From Russia with Love       543.8    12.6                1.6  \n",
       "Goldfinger                  820.4    18.6                3.2  "
      ]
     },
     "execution_count": 13,
     "metadata": {},
     "output_type": "execute_result"
    }
   ],
   "source": [
    "df.head(3)"
   ]
  },
  {
   "cell_type": "code",
   "execution_count": 14,
   "id": "14ffad79",
   "metadata": {
    "execution": {
     "iopub.execute_input": "2023-04-13T05:32:56.438981Z",
     "iopub.status.busy": "2023-04-13T05:32:56.438352Z",
     "iopub.status.idle": "2023-04-13T05:32:56.450095Z",
     "shell.execute_reply": "2023-04-13T05:32:56.449229Z"
    },
    "papermill": {
     "duration": 0.022745,
     "end_time": "2023-04-13T05:32:56.452418",
     "exception": false,
     "start_time": "2023-04-13T05:32:56.429673",
     "status": "completed"
    },
    "tags": []
   },
   "outputs": [
    {
     "data": {
      "text/html": [
       "<div>\n",
       "<style scoped>\n",
       "    .dataframe tbody tr th:only-of-type {\n",
       "        vertical-align: middle;\n",
       "    }\n",
       "\n",
       "    .dataframe tbody tr th {\n",
       "        vertical-align: top;\n",
       "    }\n",
       "\n",
       "    .dataframe thead th {\n",
       "        text-align: right;\n",
       "    }\n",
       "</style>\n",
       "<table border=\"1\" class=\"dataframe\">\n",
       "  <thead>\n",
       "    <tr style=\"text-align: right;\">\n",
       "      <th></th>\n",
       "      <th>Director</th>\n",
       "    </tr>\n",
       "    <tr>\n",
       "      <th>Film</th>\n",
       "      <th></th>\n",
       "    </tr>\n",
       "  </thead>\n",
       "  <tbody>\n",
       "    <tr>\n",
       "      <th>Dr. No</th>\n",
       "      <td>Terence Young</td>\n",
       "    </tr>\n",
       "    <tr>\n",
       "      <th>From Russia with Love</th>\n",
       "      <td>Terence Young</td>\n",
       "    </tr>\n",
       "    <tr>\n",
       "      <th>Goldfinger</th>\n",
       "      <td>Guy Hamilton</td>\n",
       "    </tr>\n",
       "    <tr>\n",
       "      <th>Thunderball</th>\n",
       "      <td>Terence Young</td>\n",
       "    </tr>\n",
       "    <tr>\n",
       "      <th>Casino Royale</th>\n",
       "      <td>Ken Hughes</td>\n",
       "    </tr>\n",
       "    <tr>\n",
       "      <th>You Only Live Twice</th>\n",
       "      <td>Lewis Gilbert</td>\n",
       "    </tr>\n",
       "    <tr>\n",
       "      <th>On Her Majesty's Secret Service</th>\n",
       "      <td>Peter R. Hunt</td>\n",
       "    </tr>\n",
       "    <tr>\n",
       "      <th>Diamonds Are Forever</th>\n",
       "      <td>Guy Hamilton</td>\n",
       "    </tr>\n",
       "    <tr>\n",
       "      <th>Live and Let Die</th>\n",
       "      <td>Guy Hamilton</td>\n",
       "    </tr>\n",
       "    <tr>\n",
       "      <th>The Man with the Golden Gun</th>\n",
       "      <td>Guy Hamilton</td>\n",
       "    </tr>\n",
       "    <tr>\n",
       "      <th>The Spy Who Loved Me</th>\n",
       "      <td>Lewis Gilbert</td>\n",
       "    </tr>\n",
       "    <tr>\n",
       "      <th>Moonraker</th>\n",
       "      <td>Lewis Gilbert</td>\n",
       "    </tr>\n",
       "    <tr>\n",
       "      <th>For Your Eyes Only</th>\n",
       "      <td>John Glen</td>\n",
       "    </tr>\n",
       "    <tr>\n",
       "      <th>Never Say Never Again</th>\n",
       "      <td>Irvin Kershner</td>\n",
       "    </tr>\n",
       "    <tr>\n",
       "      <th>Octopussy</th>\n",
       "      <td>John Glen</td>\n",
       "    </tr>\n",
       "    <tr>\n",
       "      <th>A View to a Kill</th>\n",
       "      <td>John Glen</td>\n",
       "    </tr>\n",
       "    <tr>\n",
       "      <th>The Living Daylights</th>\n",
       "      <td>John Glen</td>\n",
       "    </tr>\n",
       "    <tr>\n",
       "      <th>Licence to Kill</th>\n",
       "      <td>John Glen</td>\n",
       "    </tr>\n",
       "    <tr>\n",
       "      <th>Golden Eye</th>\n",
       "      <td>Martin Campbell</td>\n",
       "    </tr>\n",
       "    <tr>\n",
       "      <th>Tomorrow Never Dies</th>\n",
       "      <td>Roger Spottiswoode</td>\n",
       "    </tr>\n",
       "    <tr>\n",
       "      <th>The World Is Not Enough</th>\n",
       "      <td>Michael Apted</td>\n",
       "    </tr>\n",
       "    <tr>\n",
       "      <th>Die Another Day</th>\n",
       "      <td>Lee Tamahori</td>\n",
       "    </tr>\n",
       "    <tr>\n",
       "      <th>Casino Royale</th>\n",
       "      <td>Martin Campbell</td>\n",
       "    </tr>\n",
       "    <tr>\n",
       "      <th>Quantum of Solace</th>\n",
       "      <td>Marc Forster</td>\n",
       "    </tr>\n",
       "    <tr>\n",
       "      <th>Skyfall</th>\n",
       "      <td>Sam Mendes</td>\n",
       "    </tr>\n",
       "    <tr>\n",
       "      <th>Spectre</th>\n",
       "      <td>Sam Mendes</td>\n",
       "    </tr>\n",
       "  </tbody>\n",
       "</table>\n",
       "</div>"
      ],
      "text/plain": [
       "                                           Director\n",
       "Film                                               \n",
       "Dr. No                                Terence Young\n",
       "From Russia with Love                 Terence Young\n",
       "Goldfinger                             Guy Hamilton\n",
       "Thunderball                           Terence Young\n",
       "Casino Royale                            Ken Hughes\n",
       "You Only Live Twice                   Lewis Gilbert\n",
       "On Her Majesty's Secret Service       Peter R. Hunt\n",
       "Diamonds Are Forever                   Guy Hamilton\n",
       "Live and Let Die                       Guy Hamilton\n",
       "The Man with the Golden Gun            Guy Hamilton\n",
       "The Spy Who Loved Me                  Lewis Gilbert\n",
       "Moonraker                             Lewis Gilbert\n",
       "For Your Eyes Only                        John Glen\n",
       "Never Say Never Again                Irvin Kershner\n",
       "Octopussy                                 John Glen\n",
       "A View to a Kill                          John Glen\n",
       "The Living Daylights                      John Glen\n",
       "Licence to Kill                           John Glen\n",
       "Golden Eye                          Martin Campbell\n",
       "Tomorrow Never Dies              Roger Spottiswoode\n",
       "The World Is Not Enough               Michael Apted\n",
       "Die Another Day                        Lee Tamahori\n",
       "Casino Royale                       Martin Campbell\n",
       "Quantum of Solace                      Marc Forster\n",
       "Skyfall                                  Sam Mendes\n",
       "Spectre                                  Sam Mendes"
      ]
     },
     "execution_count": 14,
     "metadata": {},
     "output_type": "execute_result"
    }
   ],
   "source": [
    "df.sample(axis = 1)\n"
   ]
  },
  {
   "cell_type": "code",
   "execution_count": 15,
   "id": "f4c5ba8e",
   "metadata": {
    "execution": {
     "iopub.execute_input": "2023-04-13T05:32:56.468866Z",
     "iopub.status.busy": "2023-04-13T05:32:56.468449Z",
     "iopub.status.idle": "2023-04-13T05:32:56.484266Z",
     "shell.execute_reply": "2023-04-13T05:32:56.482543Z"
    },
    "papermill": {
     "duration": 0.027083,
     "end_time": "2023-04-13T05:32:56.486809",
     "exception": false,
     "start_time": "2023-04-13T05:32:56.459726",
     "status": "completed"
    },
    "tags": []
   },
   "outputs": [
    {
     "data": {
      "text/html": [
       "<div>\n",
       "<style scoped>\n",
       "    .dataframe tbody tr th:only-of-type {\n",
       "        vertical-align: middle;\n",
       "    }\n",
       "\n",
       "    .dataframe tbody tr th {\n",
       "        vertical-align: top;\n",
       "    }\n",
       "\n",
       "    .dataframe thead th {\n",
       "        text-align: right;\n",
       "    }\n",
       "</style>\n",
       "<table border=\"1\" class=\"dataframe\">\n",
       "  <thead>\n",
       "    <tr style=\"text-align: right;\">\n",
       "      <th></th>\n",
       "      <th>Release Date</th>\n",
       "      <th>Actor</th>\n",
       "      <th>Director</th>\n",
       "      <th>Box Office</th>\n",
       "      <th>Budget</th>\n",
       "      <th>Bond Actor Salary</th>\n",
       "    </tr>\n",
       "    <tr>\n",
       "      <th>Film</th>\n",
       "      <th></th>\n",
       "      <th></th>\n",
       "      <th></th>\n",
       "      <th></th>\n",
       "      <th></th>\n",
       "      <th></th>\n",
       "    </tr>\n",
       "  </thead>\n",
       "  <tbody>\n",
       "    <tr>\n",
       "      <th>Skyfall</th>\n",
       "      <td>2012</td>\n",
       "      <td>Daniel Craig</td>\n",
       "      <td>Sam Mendes</td>\n",
       "      <td>943.5</td>\n",
       "      <td>170.2</td>\n",
       "      <td>14.5</td>\n",
       "    </tr>\n",
       "    <tr>\n",
       "      <th>Thunderball</th>\n",
       "      <td>1965</td>\n",
       "      <td>Sir Sean Connery</td>\n",
       "      <td>Terence Young</td>\n",
       "      <td>848.1</td>\n",
       "      <td>41.9</td>\n",
       "      <td>4.7</td>\n",
       "    </tr>\n",
       "    <tr>\n",
       "      <th>Goldfinger</th>\n",
       "      <td>1964</td>\n",
       "      <td>Sir Sean Connery</td>\n",
       "      <td>Guy Hamilton</td>\n",
       "      <td>820.4</td>\n",
       "      <td>18.6</td>\n",
       "      <td>3.2</td>\n",
       "    </tr>\n",
       "  </tbody>\n",
       "</table>\n",
       "</div>"
      ],
      "text/plain": [
       "             Release Date             Actor       Director  Box Office  \\\n",
       "Film                                                                     \n",
       "Skyfall              2012      Daniel Craig     Sam Mendes       943.5   \n",
       "Thunderball          1965  Sir Sean Connery  Terence Young       848.1   \n",
       "Goldfinger           1964  Sir Sean Connery   Guy Hamilton       820.4   \n",
       "\n",
       "             Budget  Bond Actor Salary  \n",
       "Film                                    \n",
       "Skyfall       170.2               14.5  \n",
       "Thunderball    41.9                4.7  \n",
       "Goldfinger     18.6                3.2  "
      ]
     },
     "execution_count": 15,
     "metadata": {},
     "output_type": "execute_result"
    }
   ],
   "source": [
    "df.sort_values(\"Box Office\", ascending= False).head(3)\n"
   ]
  },
  {
   "cell_type": "code",
   "execution_count": 16,
   "id": "92891ac7",
   "metadata": {
    "execution": {
     "iopub.execute_input": "2023-04-13T05:32:56.504635Z",
     "iopub.status.busy": "2023-04-13T05:32:56.503358Z",
     "iopub.status.idle": "2023-04-13T05:32:56.523272Z",
     "shell.execute_reply": "2023-04-13T05:32:56.521943Z"
    },
    "papermill": {
     "duration": 0.031517,
     "end_time": "2023-04-13T05:32:56.525943",
     "exception": false,
     "start_time": "2023-04-13T05:32:56.494426",
     "status": "completed"
    },
    "tags": []
   },
   "outputs": [
    {
     "data": {
      "text/html": [
       "<div>\n",
       "<style scoped>\n",
       "    .dataframe tbody tr th:only-of-type {\n",
       "        vertical-align: middle;\n",
       "    }\n",
       "\n",
       "    .dataframe tbody tr th {\n",
       "        vertical-align: top;\n",
       "    }\n",
       "\n",
       "    .dataframe thead th {\n",
       "        text-align: right;\n",
       "    }\n",
       "</style>\n",
       "<table border=\"1\" class=\"dataframe\">\n",
       "  <thead>\n",
       "    <tr style=\"text-align: right;\">\n",
       "      <th></th>\n",
       "      <th>Release Date</th>\n",
       "      <th>Actor</th>\n",
       "      <th>Director</th>\n",
       "      <th>Box Office</th>\n",
       "      <th>Budget</th>\n",
       "      <th>Bond Actor Salary</th>\n",
       "    </tr>\n",
       "    <tr>\n",
       "      <th>Film</th>\n",
       "      <th></th>\n",
       "      <th></th>\n",
       "      <th></th>\n",
       "      <th></th>\n",
       "      <th></th>\n",
       "      <th></th>\n",
       "    </tr>\n",
       "  </thead>\n",
       "  <tbody>\n",
       "    <tr>\n",
       "      <th>Licence to Kill</th>\n",
       "      <td>1989</td>\n",
       "      <td>Timothy Dalton</td>\n",
       "      <td>John Glen</td>\n",
       "      <td>250.9</td>\n",
       "      <td>56.7</td>\n",
       "      <td>7.9</td>\n",
       "    </tr>\n",
       "    <tr>\n",
       "      <th>A View to a Kill</th>\n",
       "      <td>1985</td>\n",
       "      <td>Roger Moore</td>\n",
       "      <td>John Glen</td>\n",
       "      <td>275.2</td>\n",
       "      <td>54.5</td>\n",
       "      <td>9.1</td>\n",
       "    </tr>\n",
       "    <tr>\n",
       "      <th>On Her Majesty's Secret Service</th>\n",
       "      <td>1969</td>\n",
       "      <td>George Lazenby</td>\n",
       "      <td>Peter R. Hunt</td>\n",
       "      <td>291.5</td>\n",
       "      <td>37.3</td>\n",
       "      <td>0.6</td>\n",
       "    </tr>\n",
       "  </tbody>\n",
       "</table>\n",
       "</div>"
      ],
      "text/plain": [
       "                                 Release Date           Actor       Director  \\\n",
       "Film                                                                           \n",
       "Licence to Kill                          1989  Timothy Dalton      John Glen   \n",
       "A View to a Kill                         1985     Roger Moore      John Glen   \n",
       "On Her Majesty's Secret Service          1969  George Lazenby  Peter R. Hunt   \n",
       "\n",
       "                                 Box Office  Budget  Bond Actor Salary  \n",
       "Film                                                                    \n",
       "Licence to Kill                       250.9    56.7                7.9  \n",
       "A View to a Kill                      275.2    54.5                9.1  \n",
       "On Her Majesty's Secret Service       291.5    37.3                0.6  "
      ]
     },
     "execution_count": 16,
     "metadata": {},
     "output_type": "execute_result"
    }
   ],
   "source": [
    "df.nlargest(3, columns = \"Box Office\")\n",
    "df.nsmallest(3, columns = \"Box Office\")"
   ]
  },
  {
   "cell_type": "code",
   "execution_count": 17,
   "id": "dfa233d7",
   "metadata": {
    "execution": {
     "iopub.execute_input": "2023-04-13T05:32:56.544309Z",
     "iopub.status.busy": "2023-04-13T05:32:56.543460Z",
     "iopub.status.idle": "2023-04-13T05:32:56.553493Z",
     "shell.execute_reply": "2023-04-13T05:32:56.552282Z"
    },
    "papermill": {
     "duration": 0.022315,
     "end_time": "2023-04-13T05:32:56.556061",
     "exception": false,
     "start_time": "2023-04-13T05:32:56.533746",
     "status": "completed"
    },
    "tags": []
   },
   "outputs": [
    {
     "data": {
      "text/plain": [
       "Film\n",
       "Spectre                    206.3\n",
       "Quantum of Solace          181.4\n",
       "Skyfall                    170.2\n",
       "The World Is Not Enough    158.3\n",
       "Die Another Day            154.2\n",
       "Name: Budget, dtype: float64"
      ]
     },
     "execution_count": 17,
     "metadata": {},
     "output_type": "execute_result"
    }
   ],
   "source": [
    "df[\"Budget\"].nlargest()"
   ]
  },
  {
   "cell_type": "code",
   "execution_count": 18,
   "id": "9a8d8caf",
   "metadata": {
    "execution": {
     "iopub.execute_input": "2023-04-13T05:32:56.573907Z",
     "iopub.status.busy": "2023-04-13T05:32:56.573116Z",
     "iopub.status.idle": "2023-04-13T05:32:56.581459Z",
     "shell.execute_reply": "2023-04-13T05:32:56.580188Z"
    },
    "papermill": {
     "duration": 0.020008,
     "end_time": "2023-04-13T05:32:56.583914",
     "exception": false,
     "start_time": "2023-04-13T05:32:56.563906",
     "status": "completed"
    },
    "tags": []
   },
   "outputs": [],
   "source": [
    "mask = df.query(\"Actor == 'Daniel Craig'\")\n"
   ]
  },
  {
   "cell_type": "code",
   "execution_count": 19,
   "id": "eb4433db",
   "metadata": {
    "execution": {
     "iopub.execute_input": "2023-04-13T05:32:56.602412Z",
     "iopub.status.busy": "2023-04-13T05:32:56.601613Z",
     "iopub.status.idle": "2023-04-13T05:32:56.610088Z",
     "shell.execute_reply": "2023-04-13T05:32:56.608625Z"
    },
    "papermill": {
     "duration": 0.020793,
     "end_time": "2023-04-13T05:32:56.612601",
     "exception": false,
     "start_time": "2023-04-13T05:32:56.591808",
     "status": "completed"
    },
    "tags": []
   },
   "outputs": [
    {
     "data": {
      "text/plain": [
       "['Release_Date',\n",
       " 'Actor',\n",
       " 'Director',\n",
       " 'Box_Office',\n",
       " 'Budget',\n",
       " 'Bond_Actor_Salary']"
      ]
     },
     "execution_count": 19,
     "metadata": {},
     "output_type": "execute_result"
    }
   ],
   "source": [
    "[column_name.replace(\" \",\"_\") for column_name in df.columns]"
   ]
  },
  {
   "cell_type": "code",
   "execution_count": 20,
   "id": "22dc955e",
   "metadata": {
    "execution": {
     "iopub.execute_input": "2023-04-13T05:32:56.630696Z",
     "iopub.status.busy": "2023-04-13T05:32:56.630198Z",
     "iopub.status.idle": "2023-04-13T05:32:56.649363Z",
     "shell.execute_reply": "2023-04-13T05:32:56.647506Z"
    },
    "papermill": {
     "duration": 0.03142,
     "end_time": "2023-04-13T05:32:56.652006",
     "exception": false,
     "start_time": "2023-04-13T05:32:56.620586",
     "status": "completed"
    },
    "tags": []
   },
   "outputs": [
    {
     "data": {
      "text/html": [
       "<div>\n",
       "<style scoped>\n",
       "    .dataframe tbody tr th:only-of-type {\n",
       "        vertical-align: middle;\n",
       "    }\n",
       "\n",
       "    .dataframe tbody tr th {\n",
       "        vertical-align: top;\n",
       "    }\n",
       "\n",
       "    .dataframe thead th {\n",
       "        text-align: right;\n",
       "    }\n",
       "</style>\n",
       "<table border=\"1\" class=\"dataframe\">\n",
       "  <thead>\n",
       "    <tr style=\"text-align: right;\">\n",
       "      <th></th>\n",
       "      <th>Release Date</th>\n",
       "      <th>Actor</th>\n",
       "      <th>Director</th>\n",
       "      <th>Box Office</th>\n",
       "      <th>Budget</th>\n",
       "      <th>Bond Actor Salary</th>\n",
       "    </tr>\n",
       "    <tr>\n",
       "      <th>Film</th>\n",
       "      <th></th>\n",
       "      <th></th>\n",
       "      <th></th>\n",
       "      <th></th>\n",
       "      <th></th>\n",
       "      <th></th>\n",
       "    </tr>\n",
       "  </thead>\n",
       "  <tbody>\n",
       "    <tr>\n",
       "      <th>Dr. No</th>\n",
       "      <td>1962</td>\n",
       "      <td>Sir Sean Connery</td>\n",
       "      <td>Terence Young</td>\n",
       "      <td>448.8</td>\n",
       "      <td>7.0</td>\n",
       "      <td>0.6</td>\n",
       "    </tr>\n",
       "    <tr>\n",
       "      <th>From Russia with Love</th>\n",
       "      <td>1963</td>\n",
       "      <td>Sir Sean Connery</td>\n",
       "      <td>Terence Young</td>\n",
       "      <td>543.8</td>\n",
       "      <td>12.6</td>\n",
       "      <td>1.6</td>\n",
       "    </tr>\n",
       "    <tr>\n",
       "      <th>Thunderball</th>\n",
       "      <td>1965</td>\n",
       "      <td>Sir Sean Connery</td>\n",
       "      <td>Terence Young</td>\n",
       "      <td>848.1</td>\n",
       "      <td>41.9</td>\n",
       "      <td>4.7</td>\n",
       "    </tr>\n",
       "  </tbody>\n",
       "</table>\n",
       "</div>"
      ],
      "text/plain": [
       "                       Release Date             Actor       Director  \\\n",
       "Film                                                                   \n",
       "Dr. No                         1962  Sir Sean Connery  Terence Young   \n",
       "From Russia with Love          1963  Sir Sean Connery  Terence Young   \n",
       "Thunderball                    1965  Sir Sean Connery  Terence Young   \n",
       "\n",
       "                       Box Office  Budget  Bond Actor Salary  \n",
       "Film                                                          \n",
       "Dr. No                      448.8     7.0                0.6  \n",
       "From Russia with Love       543.8    12.6                1.6  \n",
       "Thunderball                 848.1    41.9                4.7  "
      ]
     },
     "execution_count": 20,
     "metadata": {},
     "output_type": "execute_result"
    }
   ],
   "source": [
    "df.query(\"Director == 'Terence Young' & Actor =='Sir Sean Connery'\")"
   ]
  },
  {
   "cell_type": "code",
   "execution_count": 21,
   "id": "402f8a60",
   "metadata": {
    "execution": {
     "iopub.execute_input": "2023-04-13T05:32:56.670839Z",
     "iopub.status.busy": "2023-04-13T05:32:56.670400Z",
     "iopub.status.idle": "2023-04-13T05:32:56.687896Z",
     "shell.execute_reply": "2023-04-13T05:32:56.686516Z"
    },
    "papermill": {
     "duration": 0.029845,
     "end_time": "2023-04-13T05:32:56.690250",
     "exception": false,
     "start_time": "2023-04-13T05:32:56.660405",
     "status": "completed"
    },
    "tags": []
   },
   "outputs": [
    {
     "data": {
      "text/html": [
       "<div>\n",
       "<style scoped>\n",
       "    .dataframe tbody tr th:only-of-type {\n",
       "        vertical-align: middle;\n",
       "    }\n",
       "\n",
       "    .dataframe tbody tr th {\n",
       "        vertical-align: top;\n",
       "    }\n",
       "\n",
       "    .dataframe thead th {\n",
       "        text-align: right;\n",
       "    }\n",
       "</style>\n",
       "<table border=\"1\" class=\"dataframe\">\n",
       "  <thead>\n",
       "    <tr style=\"text-align: right;\">\n",
       "      <th></th>\n",
       "      <th>Release Date</th>\n",
       "      <th>Actor</th>\n",
       "      <th>Director</th>\n",
       "      <th>Box Office</th>\n",
       "      <th>Budget</th>\n",
       "      <th>Bond Actor Salary</th>\n",
       "    </tr>\n",
       "    <tr>\n",
       "      <th>Film</th>\n",
       "      <th></th>\n",
       "      <th></th>\n",
       "      <th></th>\n",
       "      <th></th>\n",
       "      <th></th>\n",
       "      <th></th>\n",
       "    </tr>\n",
       "  </thead>\n",
       "  <tbody>\n",
       "    <tr>\n",
       "      <th>On Her Majesty's Secret Service</th>\n",
       "      <td>1969</td>\n",
       "      <td>George Lazenby</td>\n",
       "      <td>Peter R. Hunt</td>\n",
       "      <td>291.5</td>\n",
       "      <td>37.3</td>\n",
       "      <td>0.6</td>\n",
       "    </tr>\n",
       "    <tr>\n",
       "      <th>The Living Daylights</th>\n",
       "      <td>1987</td>\n",
       "      <td>Timothy Dalton</td>\n",
       "      <td>John Glen</td>\n",
       "      <td>313.5</td>\n",
       "      <td>68.8</td>\n",
       "      <td>5.2</td>\n",
       "    </tr>\n",
       "    <tr>\n",
       "      <th>Licence to Kill</th>\n",
       "      <td>1989</td>\n",
       "      <td>Timothy Dalton</td>\n",
       "      <td>John Glen</td>\n",
       "      <td>250.9</td>\n",
       "      <td>56.7</td>\n",
       "      <td>7.9</td>\n",
       "    </tr>\n",
       "  </tbody>\n",
       "</table>\n",
       "</div>"
      ],
      "text/plain": [
       "                                 Release Date           Actor       Director  \\\n",
       "Film                                                                           \n",
       "On Her Majesty's Secret Service          1969  George Lazenby  Peter R. Hunt   \n",
       "The Living Daylights                     1987  Timothy Dalton      John Glen   \n",
       "Licence to Kill                          1989  Timothy Dalton      John Glen   \n",
       "\n",
       "                                 Box Office  Budget  Bond Actor Salary  \n",
       "Film                                                                    \n",
       "On Her Majesty's Secret Service       291.5    37.3                0.6  \n",
       "The Living Daylights                  313.5    68.8                5.2  \n",
       "Licence to Kill                       250.9    56.7                7.9  "
      ]
     },
     "execution_count": 21,
     "metadata": {},
     "output_type": "execute_result"
    }
   ],
   "source": [
    "df.query(\"Actor in ['Timothy Dalton', 'George Lazenby']\")"
   ]
  },
  {
   "cell_type": "code",
   "execution_count": 22,
   "id": "cf29c65f",
   "metadata": {
    "execution": {
     "iopub.execute_input": "2023-04-13T05:32:56.709518Z",
     "iopub.status.busy": "2023-04-13T05:32:56.708442Z",
     "iopub.status.idle": "2023-04-13T05:32:56.713806Z",
     "shell.execute_reply": "2023-04-13T05:32:56.712659Z"
    },
    "papermill": {
     "duration": 0.017385,
     "end_time": "2023-04-13T05:32:56.716059",
     "exception": false,
     "start_time": "2023-04-13T05:32:56.698674",
     "status": "completed"
    },
    "tags": []
   },
   "outputs": [],
   "source": [
    "# def convert_to_string_and_add_millions(number):\n",
    "    #  return str(number)+\"MILLIONS!\"\n",
    "#df[\"Box Office\"].apply(convert_to_string_and_add_millions)"
   ]
  },
  {
   "cell_type": "code",
   "execution_count": 23,
   "id": "2e65bc7a",
   "metadata": {
    "execution": {
     "iopub.execute_input": "2023-04-13T05:32:56.734614Z",
     "iopub.status.busy": "2023-04-13T05:32:56.734165Z",
     "iopub.status.idle": "2023-04-13T05:32:56.739556Z",
     "shell.execute_reply": "2023-04-13T05:32:56.738148Z"
    },
    "papermill": {
     "duration": 0.017585,
     "end_time": "2023-04-13T05:32:56.741898",
     "exception": false,
     "start_time": "2023-04-13T05:32:56.724313",
     "status": "completed"
    },
    "tags": []
   },
   "outputs": [],
   "source": [
    "#columns = [\"Box Office\", \"Budget\"]\n",
    "#for col in columns: \n",
    "        #df[col] =  df[col].apply(convert_to_string_and_add_millions)\n",
    "#df.head(3)"
   ]
  },
  {
   "cell_type": "code",
   "execution_count": 24,
   "id": "6911d634",
   "metadata": {
    "execution": {
     "iopub.execute_input": "2023-04-13T05:32:56.761017Z",
     "iopub.status.busy": "2023-04-13T05:32:56.760387Z",
     "iopub.status.idle": "2023-04-13T05:32:56.773213Z",
     "shell.execute_reply": "2023-04-13T05:32:56.772028Z"
    },
    "papermill": {
     "duration": 0.025073,
     "end_time": "2023-04-13T05:32:56.775599",
     "exception": false,
     "start_time": "2023-04-13T05:32:56.750526",
     "status": "completed"
    },
    "tags": []
   },
   "outputs": [
    {
     "data": {
      "text/plain": [
       "Film\n",
       "Dr. No                               No clue\n",
       "From Russia with Love                No clue\n",
       "Goldfinger                           No clue\n",
       "Thunderball                          No clue\n",
       "Casino Royale                        No clue\n",
       "You Only Live Twice                  No clue\n",
       "On Her Majesty's Secret Service      No clue\n",
       "Diamonds Are Forever                 No clue\n",
       "Live and Let Die                     No clue\n",
       "The Man with the Golden Gun          No clue\n",
       "The Spy Who Loved Me               Enjoyable\n",
       "Moonraker                          Enjoyable\n",
       "For Your Eyes Only                 Enjoyable\n",
       "Never Say Never Again                No clue\n",
       "Octopussy                          Enjoyable\n",
       "A View to a Kill                   Enjoyable\n",
       "The Living Daylights                 No clue\n",
       "Licence to Kill                      No clue\n",
       "Golden Eye                          The best\n",
       "Tomorrow Never Dies                 The best\n",
       "The World Is Not Enough             The best\n",
       "Die Another Day                     The best\n",
       "Casino Royale                        No clue\n",
       "Quantum of Solace                    No clue\n",
       "Skyfall                              No clue\n",
       "Spectre                              No clue\n",
       "dtype: object"
      ]
     },
     "execution_count": 24,
     "metadata": {},
     "output_type": "execute_result"
    }
   ],
   "source": [
    "def good_movie(row):\n",
    "    actor = row[1]\n",
    "    budget = row[4]\n",
    "    \n",
    "    if actor == 'Pierce Brosnan':\n",
    "        return'The best'\n",
    "    elif actor == 'Roger Moore' and budget > 40:\n",
    "        return 'Enjoyable'\n",
    "    else:\n",
    "        return 'No clue'\n",
    "df.apply(good_movie, axis = 1)"
   ]
  },
  {
   "cell_type": "code",
   "execution_count": 25,
   "id": "af071cb6",
   "metadata": {
    "execution": {
     "iopub.execute_input": "2023-04-13T05:32:56.794544Z",
     "iopub.status.busy": "2023-04-13T05:32:56.794078Z",
     "iopub.status.idle": "2023-04-13T05:32:56.802908Z",
     "shell.execute_reply": "2023-04-13T05:32:56.801446Z"
    },
    "papermill": {
     "duration": 0.021433,
     "end_time": "2023-04-13T05:32:56.805507",
     "exception": false,
     "start_time": "2023-04-13T05:32:56.784074",
     "status": "completed"
    },
    "tags": []
   },
   "outputs": [
    {
     "data": {
      "text/plain": [
       "'John Glen'"
      ]
     },
     "execution_count": 25,
     "metadata": {},
     "output_type": "execute_result"
    }
   ],
   "source": [
    "directors = df[\"Director\"].copy()\n",
    "directors[\"A View to a Kill\"]"
   ]
  },
  {
   "cell_type": "code",
   "execution_count": null,
   "id": "228dcfc2",
   "metadata": {
    "papermill": {
     "duration": 0.008243,
     "end_time": "2023-04-13T05:32:56.822455",
     "exception": false,
     "start_time": "2023-04-13T05:32:56.814212",
     "status": "completed"
    },
    "tags": []
   },
   "outputs": [],
   "source": []
  },
  {
   "cell_type": "code",
   "execution_count": null,
   "id": "3c492a79",
   "metadata": {
    "papermill": {
     "duration": 0.00807,
     "end_time": "2023-04-13T05:32:56.839046",
     "exception": false,
     "start_time": "2023-04-13T05:32:56.830976",
     "status": "completed"
    },
    "tags": []
   },
   "outputs": [],
   "source": []
  }
 ],
 "metadata": {
  "kernelspec": {
   "display_name": "Python 3",
   "language": "python",
   "name": "python3"
  },
  "language_info": {
   "codemirror_mode": {
    "name": "ipython",
    "version": 3
   },
   "file_extension": ".py",
   "mimetype": "text/x-python",
   "name": "python",
   "nbconvert_exporter": "python",
   "pygments_lexer": "ipython3",
   "version": "3.7.12"
  },
  "papermill": {
   "default_parameters": {},
   "duration": 12.369549,
   "end_time": "2023-04-13T05:32:57.571489",
   "environment_variables": {},
   "exception": null,
   "input_path": "__notebook__.ipynb",
   "output_path": "__notebook__.ipynb",
   "parameters": {},
   "start_time": "2023-04-13T05:32:45.201940",
   "version": "2.4.0"
  }
 },
 "nbformat": 4,
 "nbformat_minor": 5
}
