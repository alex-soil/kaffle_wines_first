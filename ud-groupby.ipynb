{
 "cells": [
  {
   "cell_type": "code",
   "execution_count": 1,
   "id": "0b4d9750",
   "metadata": {
    "_cell_guid": "b1076dfc-b9ad-4769-8c92-a6c4dae69d19",
    "_uuid": "8f2839f25d086af736a60e9eeb907d3b93b6e0e5",
    "execution": {
     "iopub.execute_input": "2023-04-20T12:51:53.205510Z",
     "iopub.status.busy": "2023-04-20T12:51:53.204960Z",
     "iopub.status.idle": "2023-04-20T12:51:53.233839Z",
     "shell.execute_reply": "2023-04-20T12:51:53.232489Z"
    },
    "jupyter": {
     "source_hidden": true
    },
    "papermill": {
     "duration": 0.041438,
     "end_time": "2023-04-20T12:51:53.236780",
     "exception": false,
     "start_time": "2023-04-20T12:51:53.195342",
     "status": "completed"
    },
    "tags": []
   },
   "outputs": [
    {
     "name": "stdout",
     "output_type": "stream",
     "text": [
      "/kaggle/input/data-analysis-with-pandas-and-python/jamesbond.csv\n",
      "/kaggle/input/data-analysis-with-pandas-and-python/Restaurant - Week 1 Satisfaction.csv\n",
      "/kaggle/input/data-analysis-with-pandas-and-python/Data - Single Worksheet.xlsx\n",
      "/kaggle/input/data-analysis-with-pandas-and-python/Restaurant - Week 2 Sales.csv\n",
      "/kaggle/input/data-analysis-with-pandas-and-python/quarters.csv\n",
      "/kaggle/input/data-analysis-with-pandas-and-python/google_stock_price.csv\n",
      "/kaggle/input/data-analysis-with-pandas-and-python/Restaurant - Customers.csv\n",
      "/kaggle/input/data-analysis-with-pandas-and-python/worldstats.csv\n",
      "/kaggle/input/data-analysis-with-pandas-and-python/Restaurant - Foods.csv\n",
      "/kaggle/input/data-analysis-with-pandas-and-python/Data - Multiple Worksheets.xlsx\n",
      "/kaggle/input/data-analysis-with-pandas-and-python/fortune1000.csv\n",
      "/kaggle/input/data-analysis-with-pandas-and-python/bigmac.csv\n",
      "/kaggle/input/data-analysis-with-pandas-and-python/chicago.csv\n",
      "/kaggle/input/data-analysis-with-pandas-and-python/employees.csv\n",
      "/kaggle/input/data-analysis-with-pandas-and-python/pokemon.csv\n",
      "/kaggle/input/data-analysis-with-pandas-and-python/ecommerce.csv\n",
      "/kaggle/input/data-analysis-with-pandas-and-python/salesmen.csv\n",
      "/kaggle/input/data-analysis-with-pandas-and-python/foods.csv\n",
      "/kaggle/input/data-analysis-with-pandas-and-python/nba.csv\n",
      "/kaggle/input/data-analysis-with-pandas-and-python/Restaurant - Week 1 Sales.csv\n",
      "/kaggle/input/data-analysis-with-pandas-and-python/revenue.csv\n"
     ]
    }
   ],
   "source": [
    "# This Python 3 environment comes with many helpful analytics libraries installed\n",
    "# It is defined by the kaggle/python Docker image: https://github.com/kaggle/docker-python\n",
    "# For example, here's several helpful packages to load\n",
    "\n",
    "import numpy as np # linear algebra\n",
    "import pandas as pd # data processing, CSV file I/O (e.g. pd.read_csv)\n",
    "\n",
    "# Input data files are available in the read-only \"../input/\" directory\n",
    "# For example, running this (by clicking run or pressing Shift+Enter) will list all files under the input directory\n",
    "\n",
    "import os\n",
    "for dirname, _, filenames in os.walk('/kaggle/input'):\n",
    "    for filename in filenames:\n",
    "        print(os.path.join(dirname, filename))\n",
    "\n",
    "# You can write up to 20GB to the current directory (/kaggle/working/) that gets preserved as output when you create a version using \"Save & Run All\" \n",
    "# You can also write temporary files to /kaggle/temp/, but they won't be saved outside of the current session"
   ]
  },
  {
   "cell_type": "code",
   "execution_count": 2,
   "id": "064915a2",
   "metadata": {
    "execution": {
     "iopub.execute_input": "2023-04-20T12:51:53.251619Z",
     "iopub.status.busy": "2023-04-20T12:51:53.250899Z",
     "iopub.status.idle": "2023-04-20T12:51:53.288062Z",
     "shell.execute_reply": "2023-04-20T12:51:53.286859Z"
    },
    "papermill": {
     "duration": 0.047885,
     "end_time": "2023-04-20T12:51:53.290978",
     "exception": false,
     "start_time": "2023-04-20T12:51:53.243093",
     "status": "completed"
    },
    "tags": []
   },
   "outputs": [],
   "source": [
    "df = pd.read_csv(\"/kaggle/input/data-analysis-with-pandas-and-python/fortune1000.csv\", index_col=\"Rank\")\n",
    "sector= df.groupby(['Sector', 'Industry'])"
   ]
  },
  {
   "cell_type": "code",
   "execution_count": 3,
   "id": "9c0bfdc3",
   "metadata": {
    "execution": {
     "iopub.execute_input": "2023-04-20T12:51:53.305263Z",
     "iopub.status.busy": "2023-04-20T12:51:53.304803Z",
     "iopub.status.idle": "2023-04-20T12:51:53.314037Z",
     "shell.execute_reply": "2023-04-20T12:51:53.312999Z"
    },
    "papermill": {
     "duration": 0.019481,
     "end_time": "2023-04-20T12:51:53.316632",
     "exception": false,
     "start_time": "2023-04-20T12:51:53.297151",
     "status": "completed"
    },
    "tags": []
   },
   "outputs": [
    {
     "data": {
      "text/plain": [
       "pandas.core.groupby.generic.DataFrameGroupBy"
      ]
     },
     "execution_count": 3,
     "metadata": {},
     "output_type": "execute_result"
    }
   ],
   "source": [
    "df.head(10)\n",
    "#df['Sector'] = df['Sector'].astype(\"category\")\n",
    "type(sector)\n"
   ]
  },
  {
   "cell_type": "code",
   "execution_count": 4,
   "id": "f624c764",
   "metadata": {
    "execution": {
     "iopub.execute_input": "2023-04-20T12:51:53.331202Z",
     "iopub.status.busy": "2023-04-20T12:51:53.330747Z",
     "iopub.status.idle": "2023-04-20T12:51:53.341326Z",
     "shell.execute_reply": "2023-04-20T12:51:53.340042Z"
    },
    "papermill": {
     "duration": 0.020668,
     "end_time": "2023-04-20T12:51:53.343579",
     "exception": false,
     "start_time": "2023-04-20T12:51:53.322911",
     "status": "completed"
    },
    "tags": []
   },
   "outputs": [
    {
     "data": {
      "text/plain": [
       "Company           Northrop Grumman\n",
       "Sector         Aerospace & Defense\n",
       "Industry     Aerospace and Defense\n",
       "Location          Falls Church, VA\n",
       "Revenue                      23526\n",
       "Profits                       1990\n",
       "Employees                    65000\n",
       "Name: 118, dtype: object"
      ]
     },
     "execution_count": 4,
     "metadata": {},
     "output_type": "execute_result"
    }
   ],
   "source": [
    "df.loc[118]"
   ]
  },
  {
   "cell_type": "code",
   "execution_count": 5,
   "id": "5703bb76",
   "metadata": {
    "execution": {
     "iopub.execute_input": "2023-04-20T12:51:53.358639Z",
     "iopub.status.busy": "2023-04-20T12:51:53.357533Z",
     "iopub.status.idle": "2023-04-20T12:51:53.408516Z",
     "shell.execute_reply": "2023-04-20T12:51:53.407221Z"
    },
    "jupyter": {
     "source_hidden": true
    },
    "papermill": {
     "duration": 0.06102,
     "end_time": "2023-04-20T12:51:53.410871",
     "exception": false,
     "start_time": "2023-04-20T12:51:53.349851",
     "status": "completed"
    },
    "tags": []
   },
   "outputs": [
    {
     "data": {
      "text/plain": [
       "{('Aerospace & Defense', 'Aerospace and Defense'): [24, 45, 60, 88, 118, 120, 209, 245, 282, 378, 389, 490, 560, 605, 785, 788, 836, 903, 958, 987], ('Apparel', 'Apparel'): [91, 231, 340, 354, 448, 547, 575, 597, 683, 695, 726, 794, 877, 882, 917], ('Business Services', 'Advertising, marketing'): [186, 355], ('Business Services', 'Diversified Outsourcing Services'): [199, 248, 485, 545, 626, 635, 714, 729, 744, 783, 803, 816, 819, 869], ('Business Services', 'Education'): [737, 820, 993], ('Business Services', 'Financial Data Services'): [204, 249, 294, 307, 392, 404, 468, 481, 492, 652, 694, 767, 776, 777, 792, 796, 801, 886, 952], ('Business Services', 'Miscellaneous'): [440, 734, 870], ('Business Services', 'Temporary Help'): [144, 467, 503, 791, 951], ('Business Services', 'Waste Management'): [221, 312, 677, 735, 939], ('Chemicals', 'Chemicals'): [56, 101, 182, 189, 206, 253, 262, 277, 288, 296, 316, 538, 549, 555, 566, 580, 613, 624, 654, 668, 717, 720, 724, 758, 761, 829, 865, 898, 934, 949], ('Energy', 'Energy'): [193, 364, 384, 402, 475, 558, 606, 633, 742, 784, 802, 810, 879, 962], ('Energy', 'Mining, Crude-Oil Production'): [90, 175, 216, 223, 225, 322, 324, 349, 388, 438, 458, 522, 598, 662, 703, 703, 706, 743, 754, 798, 826, 860, 862, 901, 955, 966, 981, 995], ('Energy', 'Miscellaneous'): [696], ('Energy', 'Oil and Gas Equipment, Services'): [117, 178, 192, 319, 410, 541, 692, 715, 772], ('Energy', 'Petroleum Refining'): [2, 14, 30, 32, 42, 98, 214, 217, 289, 394, 445, 569, 571, 732, 850, 953, 983], ('Energy', 'Pipelines'): [65, 104, 121, 198, 348, 387, 493, 656, 859, 908, 924, 948], ('Energy', 'Utilities: Gas and Electric'): [95, 115, 162, 163, 165, 166, 188, 190, 229, 243, 246, 247, 257, 272, 274, 279, 343, 350, 363, 403, 425, 437, 483, 507, 548, 556, 579, 600, 650, 679, 711, 745, 817, 843, 851, 853, 855, 921, 980, 997, 997], ('Engineering & Construction', 'Engineering, Construction'): [155, 156, 235, 314, 352, 381, 478, 501, 516, 572, 874, 892, 963, 985], ('Engineering & Construction', 'Homebuilders'): [260, 301, 433, 498, 576, 640, 719, 738, 822, 863, 929, 994], ('Financials', 'Commercial Banks'): [23, 26, 27, 29, 74, 78, 112, 131, 171, 179, 264, 273, 283, 329, 376, 453, 453, 486, 510, 520, 540, 603, 698, 765, 916, 938, 976, 996], ('Financials', 'Diversified Financials'): [16, 43, 83, 85, 184, 222, 232, 252, 298, 471, 494, 536, 712, 880, 923], ('Financials', 'Insurance: Life, Health (Mutual)'): [61, 76, 82, 100, 226, 318, 479, 844, 852, 925], ('Financials', 'Insurance: Life, Health (stock)'): [40, 50, 135, 205, 236, 265, 271, 306, 326, 367, 551, 590, 611, 701, 723, 750, 897, 926], ('Financials', 'Insurance: Property and Casualty (Mutual)'): [35, 69, 227, 398, 646, 755, 910], ('Financials', 'Insurance: Property and Casualty (Stock)'): [4, 49, 73, 81, 105, 114, 137, 152, 210, 275, 311, 332, 368, 411, 421, 442, 476, 497, 499, 506, 509, 531, 561, 728, 838, 878, 936, 959], ('Financials', 'Real estate'): [259, 436, 449, 472, 472, 488, 609, 651, 781, 828, 833, 846, 861, 920, 988], ('Financials', 'Securities'): [250, 344, 347, 382, 401, 482, 529, 568, 573, 663, 671, 680, 710, 730, 768, 839, 848, 872], ('Food and Drug Stores', 'Food and Drug Stores'): [7, 17, 19, 87, 107, 160, 181, 595, 614, 631, 669, 756, 809, 849, 928], ('Food, Beverages & Tobacco', 'Beverages'): [62, 397, 413, 429, 542, 636, 702, 787, 889], ('Food, Beverages & Tobacco', 'Food Consumer Products'): [44, 94, 153, 161, 176, 207, 215, 304, 336, 337, 362, 452, 535, 567, 587, 608, 615, 686, 795, 804], ('Food, Beverages & Tobacco', 'Food Production'): [41, 66, 84, 242, 456, 460, 574, 664, 770], ('Food, Beverages & Tobacco', 'Tobacco'): [106, 149, 266, 902, 954], ('Health Care', 'Health Care: Insurance and Managed Care'): [6, 33, 46, 52, 79, 124, 172, 201, 202, 537, 749], ('Health Care', 'Health Care: Medical Facilities'): [63, 125, 140, 200, 290, 372, 430, 457, 515, 618, 693, 697, 766, 935], ('Health Care', 'Health Care: Pharmacy and Other Services'): [22, 325, 358, 447, 469, 553, 629, 746, 775, 881, 883, 960, 978], ('Health Care', 'Medical Products and Equipment'): [138, 278, 286, 287, 359, 431, 465, 661, 708, 790, 799, 818, 845, 868, 965, 977], ('Health Care', 'Pharmaceuticals'): [39, 55, 72, 86, 123, 130, 141, 168, 263, 305, 420, 527, 583, 684, 815], ('Health Care', 'Wholesalers: Health Care'): [5, 12, 21, 268, 291, 559], ('Hotels, Resturants & Leisure', 'Food Services'): [109, 146, 218, 371, 546, 557, 731, 763, 797, 915, 941, 999], ('Hotels, Resturants & Leisure', 'Hotels, Casinos, Resorts'): [195, 241, 254, 309, 444, 466, 534, 562, 585, 764, 779, 895, 918], ('Household Products', 'Home Equipment, Furnishings'): [256, 328, 338, 345, 434, 533, 601, 699, 716, 890, 932, 967], ('Household Products', 'Household and Personal Products'): [34, 151, 174, 261, 370, 441, 455, 554, 665, 856, 900, 907, 992], ('Household Products', 'Miscellaneous'): [450, 550, 950], ('Industrials', 'Construction and Farm Machinery'): [59, 97, 148, 360, 396, 658, 690, 813, 866], ('Industrials', 'Electronics, Electrical Equip.'): [75, 128, 134, 412, 419, 544, 623, 645, 666, 789, 831, 841, 887], ('Industrials', 'Industrial Machinery'): [11, 211, 224, 377, 539, 596, 622, 630, 655, 674, 757, 782, 806, 823, 832, 835, 847, 867, 873, 942, 947, 964, 1000], ('Industrials', 'Miscellaneous'): [93], ('Materials', 'Building Materials, Glass'): [480, 616, 637, 639, 641, 660, 857], ('Materials', 'Forest and Paper Products'): [373, 489, 625, 751, 793], ('Materials', 'Metals'): [126, 170, 244, 303, 356, 383, 417, 620, 667, 687, 691, 911, 982, 986], ('Materials', 'Miscellaneous'): [426], ('Materials', 'Packaging, Containers'): [127, 251, 321, 341, 375, 418, 435, 446, 514, 518, 577, 586, 617, 628, 774, 885], ('Media', 'Entertainment'): [53, 96, 99, 203, 213, 366, 406, 414, 525, 681, 705, 722, 741, 759, 762, 821, 913, 969], ('Media', 'Publishing, Printing'): [255, 327, 530, 707, 752, 968, 989], ('Motor Vehicles & Parts', 'Motor Vehicles and Parts'): [8, 9, 70, 147, 154, 169, 281, 310, 334, 339, 424, 428, 470, 588, 591, 604, 647, 670, 718, 739, 811, 957, 961, 979], ('Retailing', 'Automotive Retailing, Services'): [136, 143, 191, 267, 269, 297, 330, 346, 393, 511], ('Retailing', 'General Merchandisers'): [1, 38, 103, 111, 139, 145, 197, 228, 380, 773], ('Retailing', 'Specialty Retailers: Apparel'): [89, 177, 234, 237, 361, 500, 502, 523, 643, 644, 648, 657, 721, 807, 812, 824, 840, 876], ('Retailing', 'Specialty Retailers: Other'): [15, 28, 47, 71, 132, 180, 196, 238, 240, 258, 280, 293, 299, 302, 342, 365, 374, 379, 415, 427, 439, 495, 512, 517, 582, 592, 602, 607, 610, 621, 675, 689, 748, 771, 825, 827, 894, 899, 922, 937, 940, 973], ('Technology', 'Computer Peripherals'): [113, 194, 422, 638], ('Technology', 'Computer Software'): [25, 77, 386, 400, 524, 532, 543, 552, 563, 834, 842, 909, 919, 984], ('Technology', 'Computers, Office Equipment'): [3, 20, 409, 634, 778, 971, 975], ('Technology', 'Information Technology Services'): [31, 150, 220, 230, 233, 487, 504, 565, 673, 725, 927, 943, 946], ('Technology', 'Internet Services and Retailing'): [18, 36, 157, 284, 300, 308, 385, 513, 682, 688, 733, 736, 906, 914, 970], ('Technology', 'Network and Other Communications Equipment'): [54, 110, 313, 451, 462, 505, 519, 584, 612, 676, 700, 854, 904, 990], ('Technology', 'Scientific,Photographic and Control Equipment'): [133, 164, 589, 594, 632, 760, 864, 893, 896, 905, 912, 956], ('Technology', 'Semiconductors and Other Electronic Components'): [51, 158, 173, 219, 295, 331, 408, 464, 491, 508, 593, 649, 659, 678, 753, 769, 805, 830, 871, 888, 891, 931, 944], ('Telecommunications', 'Telecommunications'): [10, 13, 37, 116, 159, 187, 292, 333, 399, 443, 461, 496, 526, 619, 786], ('Transportation', 'Airlines'): [67, 68, 80, 142, 405, 459, 709, 884, 933], ('Transportation', 'Mail, Package, and Freight Delivery'): [48, 58], ('Transportation', 'Miscellaneous'): [930], ('Transportation', 'Railroads'): [129, 239, 270, 858, 972], ('Transportation', 'Transportation Equipment'): [407, 432, 528, 578, 814], ('Transportation', 'Transportation and Logistics'): [208, 353, 390, 642, 974], ('Transportation', 'Trucking, Truck Leasing'): [395, 416, 521, 570, 672, 713, 740, 800, 945], ('Wholesalers', 'Miscellaneous'): [315], ('Wholesalers', 'Wholesalers: Diversified'): [92, 167, 183, 276, 285, 320, 323, 357, 369, 391, 423, 463, 484, 564, 581, 599, 627, 653, 727, 747, 780, 808, 837, 875, 991], ('Wholesalers', 'Wholesalers: Electronics and Office Equipment'): [64, 102, 108, 119, 212, 474, 477, 685], ('Wholesalers', 'Wholesalers: Food and Grocery'): [57, 122, 185, 317, 335, 351]}"
      ]
     },
     "execution_count": 5,
     "metadata": {},
     "output_type": "execute_result"
    }
   ],
   "source": [
    "len(sector)\n",
    "df['Sector'].nunique()\n",
    "\n",
    "sector.size()\n",
    "df['Sector'].value_counts()\n",
    "\n",
    "sector.first()  #shows first appearing value\n",
    "sector.groups  #shows unique key to the group from pth dic"
   ]
  },
  {
   "cell_type": "code",
   "execution_count": 6,
   "id": "449d85e1",
   "metadata": {
    "execution": {
     "iopub.execute_input": "2023-04-20T12:51:53.426099Z",
     "iopub.status.busy": "2023-04-20T12:51:53.424845Z",
     "iopub.status.idle": "2023-04-20T12:51:53.498105Z",
     "shell.execute_reply": "2023-04-20T12:51:53.496344Z"
    },
    "papermill": {
     "duration": 0.082974,
     "end_time": "2023-04-20T12:51:53.500140",
     "exception": true,
     "start_time": "2023-04-20T12:51:53.417166",
     "status": "failed"
    },
    "tags": []
   },
   "outputs": [
    {
     "ename": "ValueError",
     "evalue": "must supply a tuple to get_group with multiple grouping keys",
     "output_type": "error",
     "traceback": [
      "\u001b[0;31m---------------------------------------------------------------------------\u001b[0m",
      "\u001b[0;31mValueError\u001b[0m                                Traceback (most recent call last)",
      "\u001b[0;32m/tmp/ipykernel_19/1335078628.py\u001b[0m in \u001b[0;36m<module>\u001b[0;34m\u001b[0m\n\u001b[0;32m----> 1\u001b[0;31m \u001b[0msector\u001b[0m\u001b[0;34m.\u001b[0m\u001b[0mget_group\u001b[0m\u001b[0;34m(\u001b[0m\u001b[0;34m\"Energy\"\u001b[0m\u001b[0;34m)\u001b[0m\u001b[0;34m\u001b[0m\u001b[0;34m\u001b[0m\u001b[0m\n\u001b[0m\u001b[1;32m      2\u001b[0m \u001b[0msector\u001b[0m\u001b[0;34m.\u001b[0m\u001b[0mget_group\u001b[0m\u001b[0;34m(\u001b[0m\u001b[0;34m\"Technology\"\u001b[0m\u001b[0;34m)\u001b[0m\u001b[0;34m\u001b[0m\u001b[0;34m\u001b[0m\u001b[0m\n\u001b[1;32m      3\u001b[0m \u001b[0;31m#all above are instead df[df[\"Sector\"]==\"Energy\"]\u001b[0m\u001b[0;34m\u001b[0m\u001b[0;34m\u001b[0m\u001b[0;34m\u001b[0m\u001b[0m\n",
      "\u001b[0;32m/opt/conda/lib/python3.7/site-packages/pandas/core/groupby/groupby.py\u001b[0m in \u001b[0;36mget_group\u001b[0;34m(self, name, obj)\u001b[0m\n\u001b[1;32m    750\u001b[0m             \u001b[0mobj\u001b[0m \u001b[0;34m=\u001b[0m \u001b[0mself\u001b[0m\u001b[0;34m.\u001b[0m\u001b[0m_selected_obj\u001b[0m\u001b[0;34m\u001b[0m\u001b[0;34m\u001b[0m\u001b[0m\n\u001b[1;32m    751\u001b[0m \u001b[0;34m\u001b[0m\u001b[0m\n\u001b[0;32m--> 752\u001b[0;31m         \u001b[0minds\u001b[0m \u001b[0;34m=\u001b[0m \u001b[0mself\u001b[0m\u001b[0;34m.\u001b[0m\u001b[0m_get_index\u001b[0m\u001b[0;34m(\u001b[0m\u001b[0mname\u001b[0m\u001b[0;34m)\u001b[0m\u001b[0;34m\u001b[0m\u001b[0;34m\u001b[0m\u001b[0m\n\u001b[0m\u001b[1;32m    753\u001b[0m         \u001b[0;32mif\u001b[0m \u001b[0;32mnot\u001b[0m \u001b[0mlen\u001b[0m\u001b[0;34m(\u001b[0m\u001b[0minds\u001b[0m\u001b[0;34m)\u001b[0m\u001b[0;34m:\u001b[0m\u001b[0;34m\u001b[0m\u001b[0;34m\u001b[0m\u001b[0m\n\u001b[1;32m    754\u001b[0m             \u001b[0;32mraise\u001b[0m \u001b[0mKeyError\u001b[0m\u001b[0;34m(\u001b[0m\u001b[0mname\u001b[0m\u001b[0;34m)\u001b[0m\u001b[0;34m\u001b[0m\u001b[0;34m\u001b[0m\u001b[0m\n",
      "\u001b[0;32m/opt/conda/lib/python3.7/site-packages/pandas/core/groupby/groupby.py\u001b[0m in \u001b[0;36m_get_index\u001b[0;34m(self, name)\u001b[0m\n\u001b[1;32m    678\u001b[0m         \u001b[0mSafe\u001b[0m \u001b[0mget\u001b[0m \u001b[0mindex\u001b[0m\u001b[0;34m,\u001b[0m \u001b[0mtranslate\u001b[0m \u001b[0mkeys\u001b[0m \u001b[0;32mfor\u001b[0m \u001b[0mdatelike\u001b[0m \u001b[0mto\u001b[0m \u001b[0munderlying\u001b[0m \u001b[0mrepr\u001b[0m\u001b[0;34m.\u001b[0m\u001b[0;34m\u001b[0m\u001b[0;34m\u001b[0m\u001b[0m\n\u001b[1;32m    679\u001b[0m         \"\"\"\n\u001b[0;32m--> 680\u001b[0;31m         \u001b[0;32mreturn\u001b[0m \u001b[0mself\u001b[0m\u001b[0;34m.\u001b[0m\u001b[0m_get_indices\u001b[0m\u001b[0;34m(\u001b[0m\u001b[0;34m[\u001b[0m\u001b[0mname\u001b[0m\u001b[0;34m]\u001b[0m\u001b[0;34m)\u001b[0m\u001b[0;34m[\u001b[0m\u001b[0;36m0\u001b[0m\u001b[0;34m]\u001b[0m\u001b[0;34m\u001b[0m\u001b[0;34m\u001b[0m\u001b[0m\n\u001b[0m\u001b[1;32m    681\u001b[0m \u001b[0;34m\u001b[0m\u001b[0m\n\u001b[1;32m    682\u001b[0m     \u001b[0;34m@\u001b[0m\u001b[0mfinal\u001b[0m\u001b[0;34m\u001b[0m\u001b[0;34m\u001b[0m\u001b[0m\n",
      "\u001b[0;32m/opt/conda/lib/python3.7/site-packages/pandas/core/groupby/groupby.py\u001b[0m in \u001b[0;36m_get_indices\u001b[0;34m(self, names)\u001b[0m\n\u001b[1;32m    651\u001b[0m             \u001b[0;32mif\u001b[0m \u001b[0;32mnot\u001b[0m \u001b[0misinstance\u001b[0m\u001b[0;34m(\u001b[0m\u001b[0mname_sample\u001b[0m\u001b[0;34m,\u001b[0m \u001b[0mtuple\u001b[0m\u001b[0;34m)\u001b[0m\u001b[0;34m:\u001b[0m\u001b[0;34m\u001b[0m\u001b[0;34m\u001b[0m\u001b[0m\n\u001b[1;32m    652\u001b[0m                 \u001b[0mmsg\u001b[0m \u001b[0;34m=\u001b[0m \u001b[0;34m\"must supply a tuple to get_group with multiple grouping keys\"\u001b[0m\u001b[0;34m\u001b[0m\u001b[0;34m\u001b[0m\u001b[0m\n\u001b[0;32m--> 653\u001b[0;31m                 \u001b[0;32mraise\u001b[0m \u001b[0mValueError\u001b[0m\u001b[0;34m(\u001b[0m\u001b[0mmsg\u001b[0m\u001b[0;34m)\u001b[0m\u001b[0;34m\u001b[0m\u001b[0;34m\u001b[0m\u001b[0m\n\u001b[0m\u001b[1;32m    654\u001b[0m             \u001b[0;32mif\u001b[0m \u001b[0;32mnot\u001b[0m \u001b[0mlen\u001b[0m\u001b[0;34m(\u001b[0m\u001b[0mname_sample\u001b[0m\u001b[0;34m)\u001b[0m \u001b[0;34m==\u001b[0m \u001b[0mlen\u001b[0m\u001b[0;34m(\u001b[0m\u001b[0mindex_sample\u001b[0m\u001b[0;34m)\u001b[0m\u001b[0;34m:\u001b[0m\u001b[0;34m\u001b[0m\u001b[0;34m\u001b[0m\u001b[0m\n\u001b[1;32m    655\u001b[0m                 \u001b[0;32mtry\u001b[0m\u001b[0;34m:\u001b[0m\u001b[0;34m\u001b[0m\u001b[0;34m\u001b[0m\u001b[0m\n",
      "\u001b[0;31mValueError\u001b[0m: must supply a tuple to get_group with multiple grouping keys"
     ]
    }
   ],
   "source": [
    "sector.get_group(\"Energy\")\n",
    "sector.get_group(\"Technology\") \n",
    "#all above are instead df[df[\"Sector\"]==\"Energy\"]"
   ]
  },
  {
   "cell_type": "code",
   "execution_count": null,
   "id": "8f9c3986",
   "metadata": {
    "execution": {
     "iopub.status.busy": "2023-04-20T12:44:01.044671Z",
     "iopub.status.idle": "2023-04-20T12:44:01.045115Z",
     "shell.execute_reply": "2023-04-20T12:44:01.044901Z",
     "shell.execute_reply.started": "2023-04-20T12:44:01.044878Z"
    },
    "papermill": {
     "duration": null,
     "end_time": null,
     "exception": null,
     "start_time": null,
     "status": "pending"
    },
    "tags": []
   },
   "outputs": [],
   "source": [
    "sector.max()\n",
    "sector.sum()\n",
    "sector.get_group(\"Apparel\")[\"Revenue\"].sum()"
   ]
  },
  {
   "cell_type": "code",
   "execution_count": null,
   "id": "680b60dc",
   "metadata": {
    "execution": {
     "iopub.status.busy": "2023-04-20T12:44:01.046582Z",
     "iopub.status.idle": "2023-04-20T12:44:01.047098Z",
     "shell.execute_reply": "2023-04-20T12:44:01.046881Z",
     "shell.execute_reply.started": "2023-04-20T12:44:01.046850Z"
    },
    "papermill": {
     "duration": null,
     "end_time": null,
     "exception": null,
     "start_time": null,
     "status": "pending"
    },
    "tags": []
   },
   "outputs": [],
   "source": [
    "sector.sum()\n",
    "sector.mean()\n",
    "sector['Revenue'].sum().sort_values(ascending = False)"
   ]
  },
  {
   "cell_type": "code",
   "execution_count": null,
   "id": "bdacb145",
   "metadata": {
    "execution": {
     "iopub.status.busy": "2023-04-20T12:44:01.048657Z",
     "iopub.status.idle": "2023-04-20T12:44:01.049161Z",
     "shell.execute_reply": "2023-04-20T12:44:01.048939Z",
     "shell.execute_reply.started": "2023-04-20T12:44:01.048915Z"
    },
    "papermill": {
     "duration": null,
     "end_time": null,
     "exception": null,
     "start_time": null,
     "status": "pending"
    },
    "tags": []
   },
   "outputs": [],
   "source": [
    "sector[\"Employees\"].sum().sort_values(ascending = False)"
   ]
  },
  {
   "cell_type": "code",
   "execution_count": null,
   "id": "a24b8288",
   "metadata": {
    "execution": {
     "iopub.status.busy": "2023-04-20T12:44:01.050426Z",
     "iopub.status.idle": "2023-04-20T12:44:01.050947Z",
     "shell.execute_reply": "2023-04-20T12:44:01.050699Z",
     "shell.execute_reply.started": "2023-04-20T12:44:01.050670Z"
    },
    "papermill": {
     "duration": null,
     "end_time": null,
     "exception": null,
     "start_time": null,
     "status": "pending"
    },
    "tags": []
   },
   "outputs": [],
   "source": [
    "sector['Profits'].min().sort_values(ascending=False)"
   ]
  },
  {
   "cell_type": "code",
   "execution_count": null,
   "id": "a1c96c5d",
   "metadata": {
    "execution": {
     "iopub.execute_input": "2023-04-20T12:44:01.068301Z",
     "iopub.status.busy": "2023-04-20T12:44:01.067594Z",
     "iopub.status.idle": "2023-04-20T12:44:01.086942Z",
     "shell.execute_reply": "2023-04-20T12:44:01.085868Z",
     "shell.execute_reply.started": "2023-04-20T12:44:01.068268Z"
    },
    "papermill": {
     "duration": null,
     "end_time": null,
     "exception": null,
     "start_time": null,
     "status": "pending"
    },
    "tags": []
   },
   "outputs": [],
   "source": [
    "sector[['Revenue','Profits']].sum()"
   ]
  },
  {
   "cell_type": "markdown",
   "id": "401b50b9",
   "metadata": {
    "papermill": {
     "duration": null,
     "end_time": null,
     "exception": null,
     "start_time": null,
     "status": "pending"
    },
    "tags": []
   },
   "source": [
    "**#multindexing grouping starts here**"
   ]
  },
  {
   "cell_type": "code",
   "execution_count": null,
   "id": "a4deb83f",
   "metadata": {
    "execution": {
     "iopub.execute_input": "2023-04-20T12:44:01.089460Z",
     "iopub.status.busy": "2023-04-20T12:44:01.088953Z",
     "iopub.status.idle": "2023-04-20T12:44:01.102840Z",
     "shell.execute_reply": "2023-04-20T12:44:01.101696Z",
     "shell.execute_reply.started": "2023-04-20T12:44:01.089416Z"
    },
    "papermill": {
     "duration": null,
     "end_time": null,
     "exception": null,
     "start_time": null,
     "status": "pending"
    },
    "tags": []
   },
   "outputs": [],
   "source": [
    "#multindexing grouping starts here\n",
    "sector.size()\n",
    "sector.sum()\n",
    "sector['Revenue'].sum().head(40)\n",
    "sector['Employees'].mean().head(40) #wow, finances are really dominating field"
   ]
  },
  {
   "cell_type": "markdown",
   "id": "3ae7c0d2",
   "metadata": {
    "papermill": {
     "duration": null,
     "end_time": null,
     "exception": null,
     "start_time": null,
     "status": "pending"
    },
    "tags": []
   },
   "source": [
    "**AGG**"
   ]
  },
  {
   "cell_type": "code",
   "execution_count": null,
   "id": "734a3249",
   "metadata": {
    "execution": {
     "iopub.execute_input": "2023-04-20T12:44:01.105069Z",
     "iopub.status.busy": "2023-04-20T12:44:01.104382Z",
     "iopub.status.idle": "2023-04-20T12:44:01.122220Z",
     "shell.execute_reply": "2023-04-20T12:44:01.121388Z",
     "shell.execute_reply.started": "2023-04-20T12:44:01.105020Z"
    },
    "papermill": {
     "duration": null,
     "end_time": null,
     "exception": null,
     "start_time": null,
     "status": "pending"
    },
    "tags": []
   },
   "outputs": [],
   "source": [
    "df = pd.read_csv(\"/kaggle/input/data-analysis-with-pandas-and-python/fortune1000.csv\", index_col=\"Rank\")\n",
    "sector= df.groupby('Sector')"
   ]
  },
  {
   "cell_type": "code",
   "execution_count": null,
   "id": "b1f4782a",
   "metadata": {
    "execution": {
     "iopub.execute_input": "2023-04-20T12:44:01.198073Z",
     "iopub.status.busy": "2023-04-20T12:44:01.197702Z",
     "iopub.status.idle": "2023-04-20T12:44:01.219278Z",
     "shell.execute_reply": "2023-04-20T12:44:01.217945Z",
     "shell.execute_reply.started": "2023-04-20T12:44:01.198041Z"
    },
    "papermill": {
     "duration": null,
     "end_time": null,
     "exception": null,
     "start_time": null,
     "status": "pending"
    },
    "tags": []
   },
   "outputs": [],
   "source": [
    "sector.agg({'Revenue': ['sum','mean'], \n",
    "            'Profits': 'sum',\n",
    "             'Employees' : 'mean'})"
   ]
  },
  {
   "cell_type": "code",
   "execution_count": null,
   "id": "5757c30b",
   "metadata": {
    "execution": {
     "iopub.execute_input": "2023-04-20T12:44:01.241026Z",
     "iopub.status.busy": "2023-04-20T12:44:01.240372Z",
     "iopub.status.idle": "2023-04-20T12:44:01.273013Z",
     "shell.execute_reply": "2023-04-20T12:44:01.271845Z",
     "shell.execute_reply.started": "2023-04-20T12:44:01.240969Z"
    },
    "papermill": {
     "duration": null,
     "end_time": null,
     "exception": null,
     "start_time": null,
     "status": "pending"
    },
    "tags": []
   },
   "outputs": [],
   "source": [
    "sector.agg([\"size\", 'sum', 'mean'])"
   ]
  },
  {
   "cell_type": "code",
   "execution_count": null,
   "id": "c10ccc20",
   "metadata": {
    "execution": {
     "iopub.execute_input": "2023-04-20T12:44:01.274899Z",
     "iopub.status.busy": "2023-04-20T12:44:01.274599Z",
     "iopub.status.idle": "2023-04-20T12:44:01.279032Z",
     "shell.execute_reply": "2023-04-20T12:44:01.277893Z",
     "shell.execute_reply.started": "2023-04-20T12:44:01.274871Z"
    },
    "papermill": {
     "duration": null,
     "end_time": null,
     "exception": null,
     "start_time": null,
     "status": "pending"
    },
    "tags": []
   },
   "outputs": [],
   "source": [
    "#df= pd.DataFrame(columns = df.columns)\n",
    "#df"
   ]
  },
  {
   "cell_type": "code",
   "execution_count": null,
   "id": "6871f727",
   "metadata": {
    "execution": {
     "iopub.execute_input": "2023-04-20T12:44:01.281024Z",
     "iopub.status.busy": "2023-04-20T12:44:01.280614Z",
     "iopub.status.idle": "2023-04-20T12:44:01.292034Z",
     "shell.execute_reply": "2023-04-20T12:44:01.291076Z",
     "shell.execute_reply.started": "2023-04-20T12:44:01.280965Z"
    },
    "papermill": {
     "duration": null,
     "end_time": null,
     "exception": null,
     "start_time": null,
     "status": "pending"
    },
    "tags": []
   },
   "outputs": [],
   "source": [
    "#for sector, data in sector:\n",
    "  #  h_revenue = data.nlargest(1, 'Revenue')\n",
    "  #  df = df.append(h_revenue)"
   ]
  },
  {
   "cell_type": "code",
   "execution_count": null,
   "id": "ecd57c7d",
   "metadata": {
    "execution": {
     "iopub.execute_input": "2023-04-20T12:45:26.630319Z",
     "iopub.status.busy": "2023-04-20T12:45:26.629923Z",
     "iopub.status.idle": "2023-04-20T12:45:26.642802Z",
     "shell.execute_reply": "2023-04-20T12:45:26.641433Z",
     "shell.execute_reply.started": "2023-04-20T12:45:26.630286Z"
    },
    "papermill": {
     "duration": null,
     "end_time": null,
     "exception": null,
     "start_time": null,
     "status": "pending"
    },
    "tags": []
   },
   "outputs": [],
   "source": [
    "cities = df.groupby(\"Location\")\n",
    "df1= pd.DataFrame(columns = df.columns)\n",
    "df1"
   ]
  },
  {
   "cell_type": "code",
   "execution_count": null,
   "id": "485f6d6a",
   "metadata": {
    "execution": {
     "iopub.execute_input": "2023-04-20T12:47:18.914423Z",
     "iopub.status.busy": "2023-04-20T12:47:18.913949Z",
     "iopub.status.idle": "2023-04-20T12:47:19.616183Z",
     "shell.execute_reply": "2023-04-20T12:47:19.615222Z",
     "shell.execute_reply.started": "2023-04-20T12:47:18.914385Z"
    },
    "papermill": {
     "duration": null,
     "end_time": null,
     "exception": null,
     "start_time": null,
     "status": "pending"
    },
    "tags": []
   },
   "outputs": [],
   "source": [
    "for city, data in cities:\n",
    "    hrevenueCity = data.nlargest(1, \"Revenue\")\n",
    "    df1= df1.append(hrevenueCity)"
   ]
  },
  {
   "cell_type": "code",
   "execution_count": null,
   "id": "a81d3009",
   "metadata": {
    "papermill": {
     "duration": null,
     "end_time": null,
     "exception": null,
     "start_time": null,
     "status": "pending"
    },
    "tags": []
   },
   "outputs": [],
   "source": []
  }
 ],
 "metadata": {
  "kernelspec": {
   "display_name": "Python 3",
   "language": "python",
   "name": "python3"
  },
  "language_info": {
   "codemirror_mode": {
    "name": "ipython",
    "version": 3
   },
   "file_extension": ".py",
   "mimetype": "text/x-python",
   "name": "python",
   "nbconvert_exporter": "python",
   "pygments_lexer": "ipython3",
   "version": "3.7.12"
  },
  "papermill": {
   "default_parameters": {},
   "duration": 11.518432,
   "end_time": "2023-04-20T12:51:54.129266",
   "environment_variables": {},
   "exception": true,
   "input_path": "__notebook__.ipynb",
   "output_path": "__notebook__.ipynb",
   "parameters": {},
   "start_time": "2023-04-20T12:51:42.610834",
   "version": "2.4.0"
  }
 },
 "nbformat": 4,
 "nbformat_minor": 5
}
