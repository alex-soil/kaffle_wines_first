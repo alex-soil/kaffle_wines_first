{
 "cells": [
  {
   "cell_type": "code",
   "execution_count": 1,
   "id": "87ffa1e0",
   "metadata": {
    "_cell_guid": "b1076dfc-b9ad-4769-8c92-a6c4dae69d19",
    "_uuid": "8f2839f25d086af736a60e9eeb907d3b93b6e0e5",
    "collapsed": true,
    "execution": {
     "iopub.execute_input": "2023-04-18T09:24:22.558711Z",
     "iopub.status.busy": "2023-04-18T09:24:22.558172Z",
     "iopub.status.idle": "2023-04-18T09:24:22.588893Z",
     "shell.execute_reply": "2023-04-18T09:24:22.587155Z"
    },
    "jupyter": {
     "outputs_hidden": true
    },
    "papermill": {
     "duration": 0.038963,
     "end_time": "2023-04-18T09:24:22.591655",
     "exception": false,
     "start_time": "2023-04-18T09:24:22.552692",
     "status": "completed"
    },
    "tags": []
   },
   "outputs": [
    {
     "name": "stdout",
     "output_type": "stream",
     "text": [
      "/kaggle/input/data-analysis-with-pandas-and-python/jamesbond.csv\n",
      "/kaggle/input/data-analysis-with-pandas-and-python/Restaurant - Week 1 Satisfaction.csv\n",
      "/kaggle/input/data-analysis-with-pandas-and-python/Data - Single Worksheet.xlsx\n",
      "/kaggle/input/data-analysis-with-pandas-and-python/Restaurant - Week 2 Sales.csv\n",
      "/kaggle/input/data-analysis-with-pandas-and-python/quarters.csv\n",
      "/kaggle/input/data-analysis-with-pandas-and-python/google_stock_price.csv\n",
      "/kaggle/input/data-analysis-with-pandas-and-python/Restaurant - Customers.csv\n",
      "/kaggle/input/data-analysis-with-pandas-and-python/worldstats.csv\n",
      "/kaggle/input/data-analysis-with-pandas-and-python/Restaurant - Foods.csv\n",
      "/kaggle/input/data-analysis-with-pandas-and-python/Data - Multiple Worksheets.xlsx\n",
      "/kaggle/input/data-analysis-with-pandas-and-python/fortune1000.csv\n",
      "/kaggle/input/data-analysis-with-pandas-and-python/bigmac.csv\n",
      "/kaggle/input/data-analysis-with-pandas-and-python/chicago.csv\n",
      "/kaggle/input/data-analysis-with-pandas-and-python/employees.csv\n",
      "/kaggle/input/data-analysis-with-pandas-and-python/pokemon.csv\n",
      "/kaggle/input/data-analysis-with-pandas-and-python/ecommerce.csv\n",
      "/kaggle/input/data-analysis-with-pandas-and-python/salesmen.csv\n",
      "/kaggle/input/data-analysis-with-pandas-and-python/foods.csv\n",
      "/kaggle/input/data-analysis-with-pandas-and-python/nba.csv\n",
      "/kaggle/input/data-analysis-with-pandas-and-python/Restaurant - Week 1 Sales.csv\n",
      "/kaggle/input/data-analysis-with-pandas-and-python/revenue.csv\n"
     ]
    }
   ],
   "source": [
    "# This Python 3 environment comes with many helpful analytics libraries installed\n",
    "# It is defined by the kaggle/python Docker image: https://github.com/kaggle/docker-python\n",
    "# For example, here's several helpful packages to load\n",
    "\n",
    "import numpy as np # linear algebra\n",
    "import pandas as pd # data processing, CSV file I/O (e.g. pd.read_csv)\n",
    "\n",
    "# Input data files are available in the read-only \"../input/\" directory\n",
    "# For example, running this (by clicking run or pressing Shift+Enter) will list all files under the input directory\n",
    "\n",
    "import os\n",
    "for dirname, _, filenames in os.walk('/kaggle/input'):\n",
    "    for filename in filenames:\n",
    "        print(os.path.join(dirname, filename))\n",
    "\n",
    "# You can write up to 20GB to the current directory (/kaggle/working/) that gets preserved as output when you create a version using \"Save & Run All\" \n",
    "# You can also write temporary files to /kaggle/temp/, but they won't be saved outside of the current session"
   ]
  },
  {
   "cell_type": "code",
   "execution_count": 2,
   "id": "72957182",
   "metadata": {
    "execution": {
     "iopub.execute_input": "2023-04-18T09:24:22.599058Z",
     "iopub.status.busy": "2023-04-18T09:24:22.598657Z",
     "iopub.status.idle": "2023-04-18T09:24:22.792090Z",
     "shell.execute_reply": "2023-04-18T09:24:22.790778Z"
    },
    "papermill": {
     "duration": 0.200637,
     "end_time": "2023-04-18T09:24:22.795237",
     "exception": false,
     "start_time": "2023-04-18T09:24:22.594600",
     "status": "completed"
    },
    "tags": []
   },
   "outputs": [
    {
     "data": {
      "text/html": [
       "<div>\n",
       "<style scoped>\n",
       "    .dataframe tbody tr th:only-of-type {\n",
       "        vertical-align: middle;\n",
       "    }\n",
       "\n",
       "    .dataframe tbody tr th {\n",
       "        vertical-align: top;\n",
       "    }\n",
       "\n",
       "    .dataframe thead th {\n",
       "        text-align: right;\n",
       "    }\n",
       "</style>\n",
       "<table border=\"1\" class=\"dataframe\">\n",
       "  <thead>\n",
       "    <tr style=\"text-align: right;\">\n",
       "      <th></th>\n",
       "      <th>Date</th>\n",
       "      <th>Salesman</th>\n",
       "      <th>Revenue</th>\n",
       "    </tr>\n",
       "  </thead>\n",
       "  <tbody>\n",
       "    <tr>\n",
       "      <th>0</th>\n",
       "      <td>2016-01-01</td>\n",
       "      <td>Bob</td>\n",
       "      <td>7172</td>\n",
       "    </tr>\n",
       "    <tr>\n",
       "      <th>1</th>\n",
       "      <td>2016-02-01</td>\n",
       "      <td>Bob</td>\n",
       "      <td>6362</td>\n",
       "    </tr>\n",
       "    <tr>\n",
       "      <th>2</th>\n",
       "      <td>2016-03-01</td>\n",
       "      <td>Bob</td>\n",
       "      <td>5982</td>\n",
       "    </tr>\n",
       "  </tbody>\n",
       "</table>\n",
       "</div>"
      ],
      "text/plain": [
       "        Date Salesman  Revenue\n",
       "0 2016-01-01      Bob     7172\n",
       "1 2016-02-01      Bob     6362\n",
       "2 2016-03-01      Bob     5982"
      ]
     },
     "execution_count": 2,
     "metadata": {},
     "output_type": "execute_result"
    }
   ],
   "source": [
    "df = pd.read_csv('/kaggle/input/data-analysis-with-pandas-and-python/salesmen.csv', parse_dates =['Date'], dayfirst= True)\n",
    "df[\"Salesman\"] = df[\"Salesman\"].astype(\"category\")\n",
    "df.head(3)"
   ]
  },
  {
   "cell_type": "code",
   "execution_count": 3,
   "id": "544547ec",
   "metadata": {
    "collapsed": true,
    "execution": {
     "iopub.execute_input": "2023-04-18T09:24:22.802687Z",
     "iopub.status.busy": "2023-04-18T09:24:22.802248Z",
     "iopub.status.idle": "2023-04-18T09:24:22.827165Z",
     "shell.execute_reply": "2023-04-18T09:24:22.825818Z"
    },
    "jupyter": {
     "outputs_hidden": true
    },
    "papermill": {
     "duration": 0.031693,
     "end_time": "2023-04-18T09:24:22.829913",
     "exception": false,
     "start_time": "2023-04-18T09:24:22.798220",
     "status": "completed"
    },
    "tags": []
   },
   "outputs": [
    {
     "data": {
      "text/html": [
       "<div>\n",
       "<style scoped>\n",
       "    .dataframe tbody tr th:only-of-type {\n",
       "        vertical-align: middle;\n",
       "    }\n",
       "\n",
       "    .dataframe tbody tr th {\n",
       "        vertical-align: top;\n",
       "    }\n",
       "\n",
       "    .dataframe thead th {\n",
       "        text-align: right;\n",
       "    }\n",
       "</style>\n",
       "<table border=\"1\" class=\"dataframe\">\n",
       "  <thead>\n",
       "    <tr style=\"text-align: right;\">\n",
       "      <th>Salesman</th>\n",
       "      <th>Bob</th>\n",
       "      <th>Dave</th>\n",
       "      <th>Jeb</th>\n",
       "      <th>Oscar</th>\n",
       "      <th>Ronald</th>\n",
       "    </tr>\n",
       "    <tr>\n",
       "      <th>Date</th>\n",
       "      <th></th>\n",
       "      <th></th>\n",
       "      <th></th>\n",
       "      <th></th>\n",
       "      <th></th>\n",
       "    </tr>\n",
       "  </thead>\n",
       "  <tbody>\n",
       "    <tr>\n",
       "      <th>2016-01-01</th>\n",
       "      <td>7172</td>\n",
       "      <td>1864</td>\n",
       "      <td>4430</td>\n",
       "      <td>5250</td>\n",
       "      <td>2639</td>\n",
       "    </tr>\n",
       "    <tr>\n",
       "      <th>2016-01-02</th>\n",
       "      <td>6151</td>\n",
       "      <td>2211</td>\n",
       "      <td>4684</td>\n",
       "      <td>9455</td>\n",
       "      <td>5903</td>\n",
       "    </tr>\n",
       "    <tr>\n",
       "      <th>2016-01-03</th>\n",
       "      <td>4144</td>\n",
       "      <td>9152</td>\n",
       "      <td>5912</td>\n",
       "      <td>225</td>\n",
       "      <td>7395</td>\n",
       "    </tr>\n",
       "  </tbody>\n",
       "</table>\n",
       "</div>"
      ],
      "text/plain": [
       "Salesman     Bob  Dave   Jeb  Oscar  Ronald\n",
       "Date                                       \n",
       "2016-01-01  7172  1864  4430   5250    2639\n",
       "2016-01-02  6151  2211  4684   9455    5903\n",
       "2016-01-03  4144  9152  5912    225    7395"
      ]
     },
     "execution_count": 3,
     "metadata": {},
     "output_type": "execute_result"
    }
   ],
   "source": [
    "df = df.pivot(index= \"Date\", columns = \"Salesman\",values =\"Revenue\" )\n",
    "df.head(3)"
   ]
  },
  {
   "cell_type": "code",
   "execution_count": null,
   "id": "d3a546a3",
   "metadata": {
    "papermill": {
     "duration": 0.002857,
     "end_time": "2023-04-18T09:24:22.835963",
     "exception": false,
     "start_time": "2023-04-18T09:24:22.833106",
     "status": "completed"
    },
    "tags": []
   },
   "outputs": [],
   "source": []
  },
  {
   "cell_type": "code",
   "execution_count": null,
   "id": "b474ab04",
   "metadata": {
    "papermill": {
     "duration": 0.00267,
     "end_time": "2023-04-18T09:24:22.841862",
     "exception": false,
     "start_time": "2023-04-18T09:24:22.839192",
     "status": "completed"
    },
    "tags": []
   },
   "outputs": [],
   "source": []
  },
  {
   "cell_type": "code",
   "execution_count": null,
   "id": "05e5bcf1",
   "metadata": {
    "papermill": {
     "duration": 0.002712,
     "end_time": "2023-04-18T09:24:22.847526",
     "exception": false,
     "start_time": "2023-04-18T09:24:22.844814",
     "status": "completed"
    },
    "tags": []
   },
   "outputs": [],
   "source": []
  },
  {
   "cell_type": "code",
   "execution_count": null,
   "id": "2a17b1b2",
   "metadata": {
    "papermill": {
     "duration": 0.002581,
     "end_time": "2023-04-18T09:24:22.853096",
     "exception": false,
     "start_time": "2023-04-18T09:24:22.850515",
     "status": "completed"
    },
    "tags": []
   },
   "outputs": [],
   "source": []
  }
 ],
 "metadata": {
  "kernelspec": {
   "display_name": "Python 3",
   "language": "python",
   "name": "python3"
  },
  "language_info": {
   "codemirror_mode": {
    "name": "ipython",
    "version": 3
   },
   "file_extension": ".py",
   "mimetype": "text/x-python",
   "name": "python",
   "nbconvert_exporter": "python",
   "pygments_lexer": "ipython3",
   "version": "3.7.12"
  },
  "papermill": {
   "default_parameters": {},
   "duration": 11.665035,
   "end_time": "2023-04-18T09:24:23.578486",
   "environment_variables": {},
   "exception": null,
   "input_path": "__notebook__.ipynb",
   "output_path": "__notebook__.ipynb",
   "parameters": {},
   "start_time": "2023-04-18T09:24:11.913451",
   "version": "2.4.0"
  }
 },
 "nbformat": 4,
 "nbformat_minor": 5
}
